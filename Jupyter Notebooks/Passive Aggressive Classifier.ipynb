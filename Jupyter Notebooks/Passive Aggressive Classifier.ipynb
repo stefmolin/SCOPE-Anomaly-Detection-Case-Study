{
 "cells": [
  {
   "cell_type": "markdown",
   "metadata": {},
   "source": [
    "# Machine Learning Models for SCOPE: Passive Aggressive Classifier\n",
    "Models will be coded here, but the official write up will be in the RMarkdown document."
   ]
  },
  {
   "cell_type": "code",
   "execution_count": null,
   "metadata": {},
   "outputs": [],
   "source": [
    "# load the data files\n",
    "import pandas as pd\n",
    "import numpy as np\n",
    "from pymodelutils import utils\n",
    "\n",
    "logs = pd.read_csv(\"data/metis_logs.csv\")\n",
    "logs.head()"
   ]
  },
  {
   "cell_type": "code",
   "execution_count": 2,
   "metadata": {},
   "outputs": [
    {
     "data": {
      "text/plain": [
       "count    9674.000000\n",
       "mean        0.166425\n",
       "std         0.372481\n",
       "min         0.000000\n",
       "25%         0.000000\n",
       "50%         0.000000\n",
       "75%         0.000000\n",
       "max         1.000000\n",
       "Name: is_alert, dtype: float64"
      ]
     },
     "execution_count": 2,
     "metadata": {},
     "output_type": "execute_result"
    }
   ],
   "source": [
    "# filter down to show the average opinion (0 means no alert, 1 means alert)\n",
    "logs['run_date'] = logs['run_date'].astype('datetime64[ns]')\n",
    "logs['is_alert'] = (np.where(logs['is_alert'] == 'f', 0, 1))\n",
    "logs = logs.groupby(['series', 'kpi', 'run_date']).mean().round(0).reset_index()\n",
    "logs['is_campaign'] = np.where(logs['campaign_id'] > 0, 1, 0)\n",
    "logs = logs.drop(columns=['client_id', 'partner_id', 'campaign_id'])\n",
    "logs['is_alert'].describe()"
   ]
  },
  {
   "cell_type": "code",
   "execution_count": null,
   "metadata": {},
   "outputs": [],
   "source": [
    "AS_data = pd.read_csv(\"data/python_AS.csv\")\n",
    "AS_data.head()"
   ]
  },
  {
   "cell_type": "code",
   "execution_count": null,
   "metadata": {},
   "outputs": [],
   "source": [
    "TS_data = pd.read_csv(\"data/python_TS.csv\")\n",
    "TS_data.head()"
   ]
  },
  {
   "cell_type": "code",
   "execution_count": null,
   "metadata": {},
   "outputs": [],
   "source": [
    "RexT_data = pd.read_csv(\"data/python_RexT.csv\")\n",
    "RexT_data.head()"
   ]
  },
  {
   "cell_type": "markdown",
   "metadata": {},
   "source": [
    "## Data Prep\n",
    "R has already filtered down the data to the days we are going to use and marked what is disqualified. We still have to handle the feature selection and one-hot encoding of select columns though. We also need to normalize it since out KPIs behave quite differently."
   ]
  },
  {
   "cell_type": "code",
   "execution_count": null,
   "metadata": {},
   "outputs": [],
   "source": [
    "# add column for AS to tell if it is campaign level or not\n",
    "AS_data['is_campaign'] = np.where(AS_data['campaign_id'] > 0, 1, 0)\n",
    "\n",
    "# drop the data we don't need for the model or for matching back to the logs\n",
    "AS_keep_columns = ['series', 'day', 'run_date', 'kpi', 'value', 'disqualified', 'is_campaign']\n",
    "TS_keep_columns = ['series', 'day', 'run_date', 'site_type', 'event_name', \n",
    "                   'kpi', 'value', 'disqualified']\n",
    "RexT_drop_columns = ['ranking',\n",
    "                    'day_of_week',\n",
    "                    'day_of_month',\n",
    "                    'month_of_year',\n",
    "                    'day_of_year',\n",
    "                    'week_of_year']\n",
    "\n",
    "AS_data = AS_data[AS_keep_columns]\n",
    "TS_data = TS_data[TS_keep_columns]\n",
    "RexT_data = RexT_data.drop(columns=RexT_drop_columns)"
   ]
  },
  {
   "cell_type": "code",
   "execution_count": null,
   "metadata": {},
   "outputs": [],
   "source": [
    "AS_data.head()"
   ]
  },
  {
   "cell_type": "code",
   "execution_count": null,
   "metadata": {},
   "outputs": [],
   "source": [
    "TS_data.head()"
   ]
  },
  {
   "cell_type": "code",
   "execution_count": null,
   "metadata": {},
   "outputs": [],
   "source": [
    "RexT_data.head()"
   ]
  },
  {
   "cell_type": "code",
   "execution_count": null,
   "metadata": {},
   "outputs": [],
   "source": [
    "# add a new column to determine how many days before the run_date the day column entry is\n",
    "# this will enable us to pivot that data into separate columns for the features of our model\n",
    "utils.prep_dates(AS_data)\n",
    "utils.prep_dates(TS_data)\n",
    "utils.prep_dates(RexT_data)"
   ]
  },
  {
   "cell_type": "code",
   "execution_count": null,
   "metadata": {},
   "outputs": [],
   "source": [
    "# inner joins to logs\n",
    "AS_data = pd.merge(AS_data, logs, on=['series', 'run_date', 'kpi', 'is_campaign'], how='inner')\n",
    "TS_data = pd.merge(TS_data, logs, on=['series', 'run_date', 'kpi'], how='inner')\n",
    "RexT_data = pd.merge(RexT_data, logs, on=['series', 'run_date', 'kpi'], how='inner')"
   ]
  },
  {
   "cell_type": "code",
   "execution_count": null,
   "metadata": {},
   "outputs": [],
   "source": [
    "# filter out the disqualified data (AS and TS data only)\n",
    "AS_disqualified = AS_data[AS_data.disqualified]\n",
    "TS_disqualified = TS_data[TS_data.disqualified]\n",
    "\n",
    "# valid for model (AS and TS data only)\n",
    "valid_AS_raw = AS_data[~(AS_data.disqualified)]\n",
    "valid_TS_raw = TS_data[~(TS_data.disqualified)]\n",
    "\n",
    "# keep a copy of the raw RexT data\n",
    "RexT_data_raw = RexT_data.copy(deep=True)"
   ]
  },
  {
   "cell_type": "code",
   "execution_count": null,
   "metadata": {},
   "outputs": [],
   "source": [
    "# final preparations to the data shape for use in the model\n",
    "valid_AS = utils.data_prep_pipeline(AS_data.copy(), \n",
    "                                      indices=['series', 'run_date', 'kpi', 'is_campaign', 'is_alert'], \n",
    "                                      cols=['kpi'],\n",
    "                                      scaling_method=['standardize', 'min_max', 'percent_of_mean'])\n",
    "valid_TS = utils.data_prep_pipeline(TS_data.copy(), \n",
    "                                      indices=['series', 'run_date', 'site_type', 'event_name', 'is_alert'], \n",
    "                                      cols=['site_type', 'event_name'],\n",
    "                                      scaling_method=['standardize', 'min_max', 'percent_of_mean'])\n",
    "valid_RexT = utils.data_prep_pipeline(utils.clean_regions(RexT_data), \n",
    "                                       indices=['isCountry', 'isSubregion', 'isRegion', \n",
    "                                                'series', 'run_date', 'is_alert'], \n",
    "                                       cols=['series'],\n",
    "                                       scaling_method=['standardize', 'min_max', 'percent_of_mean'])"
   ]
  },
  {
   "cell_type": "code",
   "execution_count": null,
   "metadata": {},
   "outputs": [],
   "source": [
    "# for the TS data we need to drop event_name_SITE LEVEL because it will always be the same as site_type_SITE LEVEL\n",
    "valid_TS = {key : value.drop(columns='event_name_SITE LEVEL') for key, value in valid_TS.items()}"
   ]
  },
  {
   "cell_type": "code",
   "execution_count": null,
   "metadata": {},
   "outputs": [],
   "source": [
    "valid_AS['min_max'].head()"
   ]
  },
  {
   "cell_type": "code",
   "execution_count": null,
   "metadata": {},
   "outputs": [],
   "source": [
    "valid_TS['percent_of_mean'].head()"
   ]
  },
  {
   "cell_type": "code",
   "execution_count": null,
   "metadata": {},
   "outputs": [],
   "source": [
    "valid_RexT['standardize'].head()"
   ]
  },
  {
   "cell_type": "markdown",
   "metadata": {},
   "source": [
    "## Modelling\n",
    "Now that all the data is prepped, we can start building some logistic regression models to test on. We also need to split our data into a test and train set being careful that we have an equal proportion of anomalies in each (because they are very few, we have to make sure we don't train or test the model on all the anomalies while the other gets none).\n",
    "\n",
    "### Split Data into Train and Test Sets"
   ]
  },
  {
   "cell_type": "code",
   "execution_count": null,
   "metadata": {},
   "outputs": [],
   "source": [
    "from sklearn.model_selection import train_test_split\n",
    "\n",
    "# scaling method to test\n",
    "AS_scaler = 'min_max'\n",
    "TS_scaler = 'min_max'\n",
    "RexT_scaler = 'min_max'\n",
    "\n",
    "# separate out data into feature matrices and target arrays\n",
    "AS_features = valid_AS[AS_scaler][[col for col in valid_AS[AS_scaler].columns \n",
    "                        if col not in ['series', 'run_date', 'is_alert']]] # this needs to be the model features\n",
    "AS_targets = valid_AS[AS_scaler]['is_alert'] # this needs to be the results from the logs (only)\n",
    "\n",
    "TS_features = valid_TS[TS_scaler][[col for col in valid_TS[TS_scaler].columns \n",
    "                        if col not in ['series', 'run_date', 'is_alert']]]\n",
    "TS_targets = valid_TS[TS_scaler]['is_alert']\n",
    "\n",
    "RexT_features = valid_RexT[RexT_scaler][[col for col in valid_RexT[RexT_scaler].columns \n",
    "                           if col not in ['run_date', 'is_alert']]]\n",
    "RexT_targets = valid_RexT[RexT_scaler]['is_alert']\n",
    "test_RexT_features = RexT_features.drop(columns=[col for col in RexT_features.columns \n",
    "                                                 if 'series' in col\n",
    "                                                or col in ['isCountry', 'isSubregion', 'isRegion']])\n",
    "\n",
    "# split into a train and test set \n",
    "AS_X_train, AS_X_test, AS_y_train, AS_y_test = train_test_split(AS_features[[col for col in AS_features.columns \n",
    "                                                                             if 'diff' not in col]], \n",
    "                                                                AS_targets, \n",
    "                                                                test_size=0.2, \n",
    "                                                                random_state=25)\n",
    "TS_X_train, TS_X_test, TS_y_train, TS_y_test = train_test_split(TS_features[[col for col in TS_features.columns \n",
    "                                                                             if 'diff' not in col]], \n",
    "                                                                TS_targets, \n",
    "                                                                test_size=0.2, \n",
    "                                                                random_state=25)\n",
    "RexT_X_train, RexT_X_test, RexT_y_train, RexT_y_test = train_test_split(test_RexT_features[[col for col in \n",
    "                                                                                            test_RexT_features.columns\n",
    "                                                                                            if 'diff' not in col]], \n",
    "                                                                        RexT_targets, \n",
    "                                                                        test_size=0.5, \n",
    "                                                                        random_state=25)"
   ]
  },
  {
   "cell_type": "markdown",
   "metadata": {},
   "source": [
    "Let's make sure that we have similar percentage of anomalies in our test and train sets. "
   ]
  },
  {
   "cell_type": "code",
   "execution_count": 19,
   "metadata": {},
   "outputs": [
    {
     "name": "stdout",
     "output_type": "stream",
     "text": [
      "Total alerts in training set: 958.0\n",
      "Total alerts in test set: 262.0\n"
     ]
    },
    {
     "data": {
      "text/html": [
       "<div>\n",
       "<style scoped>\n",
       "    .dataframe tbody tr th:only-of-type {\n",
       "        vertical-align: middle;\n",
       "    }\n",
       "\n",
       "    .dataframe tbody tr th {\n",
       "        vertical-align: top;\n",
       "    }\n",
       "\n",
       "    .dataframe thead th {\n",
       "        text-align: right;\n",
       "    }\n",
       "</style>\n",
       "<table border=\"1\" class=\"dataframe\">\n",
       "  <thead>\n",
       "    <tr style=\"text-align: right;\">\n",
       "      <th></th>\n",
       "      <th>test</th>\n",
       "      <th>train</th>\n",
       "    </tr>\n",
       "  </thead>\n",
       "  <tbody>\n",
       "    <tr>\n",
       "      <th>0.0</th>\n",
       "      <td>0.770979</td>\n",
       "      <td>0.790647</td>\n",
       "    </tr>\n",
       "    <tr>\n",
       "      <th>1.0</th>\n",
       "      <td>0.229021</td>\n",
       "      <td>0.209353</td>\n",
       "    </tr>\n",
       "  </tbody>\n",
       "</table>\n",
       "</div>"
      ],
      "text/plain": [
       "         test     train\n",
       "0.0  0.770979  0.790647\n",
       "1.0  0.229021  0.209353"
      ]
     },
     "execution_count": 19,
     "metadata": {},
     "output_type": "execute_result"
    }
   ],
   "source": [
    "# AS\n",
    "print('Total alerts in training set: ' + str(AS_y_train.sum()))\n",
    "print('Total alerts in test set: ' + str(AS_y_test.sum()))\n",
    "pd.DataFrame({'train' : AS_y_train.value_counts(normalize=True), \n",
    "              'test' : AS_y_test.value_counts(normalize=True)})"
   ]
  },
  {
   "cell_type": "code",
   "execution_count": 20,
   "metadata": {},
   "outputs": [
    {
     "name": "stdout",
     "output_type": "stream",
     "text": [
      "Total alerts in training set: 224.0\n",
      "Total alerts in test set: 76.0\n"
     ]
    },
    {
     "data": {
      "text/html": [
       "<div>\n",
       "<style scoped>\n",
       "    .dataframe tbody tr th:only-of-type {\n",
       "        vertical-align: middle;\n",
       "    }\n",
       "\n",
       "    .dataframe tbody tr th {\n",
       "        vertical-align: top;\n",
       "    }\n",
       "\n",
       "    .dataframe thead th {\n",
       "        text-align: right;\n",
       "    }\n",
       "</style>\n",
       "<table border=\"1\" class=\"dataframe\">\n",
       "  <thead>\n",
       "    <tr style=\"text-align: right;\">\n",
       "      <th></th>\n",
       "      <th>test</th>\n",
       "      <th>train</th>\n",
       "    </tr>\n",
       "  </thead>\n",
       "  <tbody>\n",
       "    <tr>\n",
       "      <th>0.0</th>\n",
       "      <td>0.891429</td>\n",
       "      <td>0.92</td>\n",
       "    </tr>\n",
       "    <tr>\n",
       "      <th>1.0</th>\n",
       "      <td>0.108571</td>\n",
       "      <td>0.08</td>\n",
       "    </tr>\n",
       "  </tbody>\n",
       "</table>\n",
       "</div>"
      ],
      "text/plain": [
       "         test  train\n",
       "0.0  0.891429   0.92\n",
       "1.0  0.108571   0.08"
      ]
     },
     "execution_count": 20,
     "metadata": {},
     "output_type": "execute_result"
    }
   ],
   "source": [
    "# TS\n",
    "print('Total alerts in training set: ' + str(TS_y_train.sum()))\n",
    "print('Total alerts in test set: ' + str(TS_y_test.sum()))\n",
    "pd.DataFrame({'train' : TS_y_train.value_counts(normalize=True), \n",
    "              'test' : TS_y_test.value_counts(normalize=True)})"
   ]
  },
  {
   "cell_type": "code",
   "execution_count": 21,
   "metadata": {},
   "outputs": [
    {
     "name": "stdout",
     "output_type": "stream",
     "text": [
      "Total alerts in training set: 9.0\n",
      "Total alerts in test set: 13.0\n"
     ]
    },
    {
     "data": {
      "text/html": [
       "<div>\n",
       "<style scoped>\n",
       "    .dataframe tbody tr th:only-of-type {\n",
       "        vertical-align: middle;\n",
       "    }\n",
       "\n",
       "    .dataframe tbody tr th {\n",
       "        vertical-align: top;\n",
       "    }\n",
       "\n",
       "    .dataframe thead th {\n",
       "        text-align: right;\n",
       "    }\n",
       "</style>\n",
       "<table border=\"1\" class=\"dataframe\">\n",
       "  <thead>\n",
       "    <tr style=\"text-align: right;\">\n",
       "      <th></th>\n",
       "      <th>test</th>\n",
       "      <th>train</th>\n",
       "    </tr>\n",
       "  </thead>\n",
       "  <tbody>\n",
       "    <tr>\n",
       "      <th>0.0</th>\n",
       "      <td>0.868687</td>\n",
       "      <td>0.909091</td>\n",
       "    </tr>\n",
       "    <tr>\n",
       "      <th>1.0</th>\n",
       "      <td>0.131313</td>\n",
       "      <td>0.090909</td>\n",
       "    </tr>\n",
       "  </tbody>\n",
       "</table>\n",
       "</div>"
      ],
      "text/plain": [
       "         test     train\n",
       "0.0  0.868687  0.909091\n",
       "1.0  0.131313  0.090909"
      ]
     },
     "execution_count": 21,
     "metadata": {},
     "output_type": "execute_result"
    }
   ],
   "source": [
    "# RexT\n",
    "print('Total alerts in training set: ' + str(RexT_y_train.sum()))\n",
    "print('Total alerts in test set: ' + str(RexT_y_test.sum()))\n",
    "pd.DataFrame({'train' : RexT_y_train.value_counts(normalize=True), \n",
    "              'test' : RexT_y_test.value_counts(normalize=True)})"
   ]
  },
  {
   "cell_type": "markdown",
   "metadata": {},
   "source": [
    "### Passive Aggressive Classifier without Differences\n",
    "**Rough idea**:\n",
    "- Passive: if correct classification, keep the model\n",
    "- Aggressive: if incorrect classification, update to adjust to this misclassified example."
   ]
  },
  {
   "cell_type": "code",
   "execution_count": 22,
   "metadata": {},
   "outputs": [],
   "source": [
    "%%capture \n",
    "# ^ don't print errors about precision, recall, F1-score being 0\n",
    "\n",
    "from sklearn.linear_model import PassiveAggressiveClassifier\n",
    "from sklearn.model_selection import GridSearchCV\n",
    "from sklearn.metrics import make_scorer, f1_score, precision_score, recall_score, fbeta_score, zero_one_loss\n",
    "\n",
    "pac = PassiveAggressiveClassifier(random_state=42, n_jobs=-1, average=True)\n",
    "parameters = {'C':[i/10 for i in range(11) if i > 0],\n",
    "             'fit_intercept' : [True, False],\n",
    "             'class_weight' : ['balanced', None]}\n",
    "\n",
    "scoring = {'auc': 'roc_auc',\n",
    "           # only reports on alerts flagged\n",
    "           'precision_binary' : make_scorer(precision_score, average='binary'), \n",
    "           # global count of everything like confusion matrix\n",
    "           'precision_micro' : make_scorer(precision_score, average='micro'), \n",
    "           # metrics calculated for each label and averaged evenly (regardless of class size)\n",
    "#            'precision_macro' : make_scorer(precision_score, average='macro'), \n",
    "           # same as macro but with a weighted average to account for imbalance of the classes\n",
    "           'precision_weighted' : make_scorer(precision_score, average='weighted'),\n",
    "          'recall_weighted' : make_scorer(recall_score, average='weighted'),\n",
    "          'recall_binary' : make_scorer(recall_score, average='binary'),\n",
    "          'recall_micro' : make_scorer(recall_score, average='micro'),\n",
    "#           'recall_macro' : make_scorer(recall_score, average='macro'),\n",
    "          'f1_score_weighted' : make_scorer(f1_score, average='weighted'),\n",
    "          'f1_score_binary' : make_scorer(f1_score, average='binary'),\n",
    "          'f1_score_micro' : make_scorer(f1_score, average='micro'),\n",
    "#           'f1_score_macro' : make_scorer(f1_score, average='macro'),\n",
    "           # emphasize recall more\n",
    "          'f2_score_weighted' : make_scorer(fbeta_score, beta=2, average='weighted'), \n",
    "          'f2_score_binary' : make_scorer(fbeta_score, beta=2, average='binary'),\n",
    "          'f2_score_micro' : make_scorer(fbeta_score, beta=2, average='micro'),\n",
    "#           'f2_score_macro' : make_scorer(fbeta_score, beta=2, average='macro'),\n",
    "           # emphasize precision more\n",
    "          'f0.5_score_weighted' : make_scorer(fbeta_score, beta=0.5, average='weighted'), \n",
    "          'f0.5_score_binary' : make_scorer(fbeta_score, beta=0.5, average='binary'),\n",
    "          'f0.5_score_micro' : make_scorer(fbeta_score, beta=0.5, average='micro'),\n",
    "#           'f0.5_score_macro' : make_scorer(fbeta_score, beta=0.5, average='macro'),\n",
    "           # percent of misclassifications\n",
    "          'zero_one_loss_normalized' : make_scorer(zero_one_loss, greater_is_better=False), \n",
    "           # number of misclassifications\n",
    "          'zero_one_loss_count' : make_scorer(zero_one_loss, greater_is_better=False, \n",
    "                                              normalize=False), \n",
    "          'accuracy' : 'accuracy'}\n",
    "\n",
    "# pick '_weighted' if you want to be right on each class proportionally \n",
    "# ('macro' isn't really appropriate due to the class imbalance)\n",
    "# pick '_binary' if you want to perform best on the alert class\n",
    "# pick '_micro' to count globally all TP, FP, TN, FN (like confusion matrix)\n",
    "# so for our purposes 'f1_score' with one of the above is likely to be the best\n",
    "refit_AS = 'f1_score_weighted'\n",
    "refit_TS = 'f1_score_weighted'\n",
    "refit_RexT = 'f1_score_weighted'\n",
    "\n",
    "AS_pac_grid = GridSearchCV(estimator=pac, param_grid=parameters, \n",
    "                                scoring=scoring, refit=refit_AS, return_train_score=True)\n",
    "TS_pac_grid = GridSearchCV(estimator=pac, param_grid=parameters, \n",
    "                                scoring=scoring, refit=refit_TS, return_train_score=True)\n",
    "RexT_pac_grid = GridSearchCV(estimator=pac, param_grid=parameters, \n",
    "                                  scoring=scoring, refit=refit_RexT, return_train_score=True)\n",
    "\n",
    "# fit the models to find the best version\n",
    "AS_pac_model = AS_pac_grid.fit(AS_X_train, AS_y_train)\n",
    "TS_pac_model = TS_pac_grid.fit(TS_X_train, TS_y_train)\n",
    "RexT_pac_model = RexT_pac_grid.fit(RexT_X_train, RexT_y_train)"
   ]
  },
  {
   "cell_type": "markdown",
   "metadata": {},
   "source": [
    "#### Best Passive Aggressive Classifiers\n",
    "##### AS\n",
    "The model seems to pick up that the most important features are whether or not it is a campaign, the 5 most recent dates (time_delta's 1-5). TAC, margin, and RexT euro have very negative coefficients most likely because we don't see many alerts there so the log odds are small and the exponential of those values is near 0. Clicks, displays, and spend are more likely."
   ]
  },
  {
   "cell_type": "code",
   "execution_count": 23,
   "metadata": {},
   "outputs": [
    {
     "name": "stdout",
     "output_type": "stream",
     "text": [
      "PassiveAggressiveClassifier(C=1.0, average=True, class_weight=None,\n",
      "              fit_intercept=True, loss='hinge', max_iter=None, n_iter=None,\n",
      "              n_jobs=-1, random_state=42, shuffle=True, tol=None,\n",
      "              verbose=0, warm_start=False)\n",
      "f1_score_weighted (Mean cross-validated score of the best_estimator): 0.7424381230826166\n",
      "is_campaign\t0.08\n",
      "time_delta_01\t0.17\n",
      "time_delta_02\t0.07\n",
      "time_delta_03\t-0.01\n",
      "time_delta_04\t0.02\n",
      "time_delta_05\t0.06\n",
      "time_delta_06\t0.0\n",
      "time_delta_07\t0.06\n",
      "time_delta_08\t-0.05\n",
      "time_delta_09\t0.04\n",
      "time_delta_10\t-0.03\n",
      "time_delta_11\t0.04\n",
      "time_delta_12\t0.05\n",
      "time_delta_13\t0.03\n",
      "time_delta_14\t-0.09\n",
      "time_delta_15\t0.01\n",
      "time_delta_16\t-0.02\n",
      "time_delta_17\t0.02\n",
      "time_delta_18\t0.01\n",
      "time_delta_19\t-0.04\n",
      "time_delta_20\t0.1\n",
      "time_delta_21\t0.01\n",
      "time_delta_22\t-0.07\n",
      "time_delta_23\t-0.03\n",
      "time_delta_24\t0.06\n",
      "time_delta_25\t-0.07\n",
      "kpi_clicks\t0.29\n",
      "kpi_client_rext\t0.08\n",
      "kpi_conversions\t-0.24\n",
      "kpi_cos\t0.16\n",
      "kpi_cr\t0.09\n",
      "kpi_ctr\t-0.26\n",
      "kpi_displays\t0.58\n",
      "kpi_margin\t-0.85\n",
      "kpi_order_value\t-0.16\n",
      "kpi_rext_euro\t-0.52\n",
      "kpi_spend\t0.33\n",
      "kpi_tac\t-0.56\n"
     ]
    }
   ],
   "source": [
    "print(AS_pac_model.best_estimator_)\n",
    "print(refit_AS + ' (Mean cross-validated score of the best_estimator): ' + \\\n",
    "      str(AS_pac_model.best_score_))\n",
    "for col, coef in zip(AS_X_train.columns, AS_pac_model.best_estimator_.coef_[0]):\n",
    "      print(col + '\\t' + str(round(coef, 2)))"
   ]
  },
  {
   "cell_type": "markdown",
   "metadata": {},
   "source": [
    "##### TS"
   ]
  },
  {
   "cell_type": "code",
   "execution_count": 24,
   "metadata": {},
   "outputs": [
    {
     "name": "stdout",
     "output_type": "stream",
     "text": [
      "PassiveAggressiveClassifier(C=0.1, average=True, class_weight=None,\n",
      "              fit_intercept=True, loss='hinge', max_iter=None, n_iter=None,\n",
      "              n_jobs=-1, random_state=42, shuffle=True, tol=None,\n",
      "              verbose=0, warm_start=False)\n",
      "f1_score_weighted (Mean cross-validated score of the best_estimator): 0.8930507344301408\n",
      "time_delta_01\t0.15\n",
      "time_delta_02\t-0.06\n",
      "time_delta_03\t-0.02\n",
      "time_delta_04\t-0.25\n",
      "time_delta_05\t-0.03\n",
      "time_delta_06\t0.03\n",
      "time_delta_07\t-0.01\n",
      "time_delta_08\t-0.06\n",
      "time_delta_09\t-0.11\n",
      "time_delta_10\t0.02\n",
      "time_delta_11\t0.0\n",
      "time_delta_12\t-0.03\n",
      "time_delta_13\t-0.08\n",
      "time_delta_14\t-0.07\n",
      "time_delta_15\t-0.1\n",
      "time_delta_16\t0.07\n",
      "time_delta_17\t-0.1\n",
      "time_delta_18\t0.1\n",
      "time_delta_19\t0.05\n",
      "time_delta_20\t0.13\n",
      "time_delta_21\t0.01\n",
      "time_delta_22\t-0.12\n",
      "time_delta_23\t-0.01\n",
      "time_delta_24\t0.0\n",
      "time_delta_25\t0.02\n",
      "site_type_SITE LEVEL\t0.02\n",
      "site_type_aa\t-0.04\n",
      "site_type_aios\t-0.22\n",
      "site_type_d\t-0.36\n",
      "site_type_m\t-0.04\n",
      "site_type_t\t-0.05\n",
      "event_name_basket\t-0.15\n",
      "event_name_homepage\t-0.27\n",
      "event_name_listing\t0.01\n",
      "event_name_product\t-0.17\n",
      "event_name_sales\t-0.32\n",
      "event_name_search\t0.19\n"
     ]
    }
   ],
   "source": [
    "print(TS_pac_model.best_estimator_)\n",
    "print(refit_TS + ' (Mean cross-validated score of the best_estimator): ' + \\\n",
    "      str(TS_pac_model.best_score_))\n",
    "for col, coef in zip(TS_X_train.columns, TS_pac_model.best_estimator_.coef_[0]):\n",
    "    print(col + '\\t' + str(round(coef, 2)))"
   ]
  },
  {
   "cell_type": "markdown",
   "metadata": {},
   "source": [
    "##### RexT"
   ]
  },
  {
   "cell_type": "code",
   "execution_count": 25,
   "metadata": {},
   "outputs": [
    {
     "name": "stdout",
     "output_type": "stream",
     "text": [
      "PassiveAggressiveClassifier(C=0.1, average=True, class_weight=None,\n",
      "              fit_intercept=True, loss='hinge', max_iter=None, n_iter=None,\n",
      "              n_jobs=-1, random_state=42, shuffle=True, tol=None,\n",
      "              verbose=0, warm_start=False)\n",
      "f1_score_weighted (Mean cross-validated score of the best_estimator): 0.8995055945875617\n",
      "time_delta_01\t0.69\n",
      "time_delta_02\t-0.14\n",
      "time_delta_03\t-0.21\n",
      "time_delta_04\t-0.11\n",
      "time_delta_05\t0.0\n",
      "time_delta_06\t0.02\n",
      "time_delta_07\t-0.06\n",
      "time_delta_08\t-0.01\n",
      "time_delta_09\t-0.11\n",
      "time_delta_10\t-0.21\n",
      "time_delta_11\t-0.05\n",
      "time_delta_12\t0.07\n",
      "time_delta_13\t-0.01\n",
      "time_delta_14\t-0.12\n",
      "time_delta_15\t-0.05\n",
      "time_delta_16\t0.05\n",
      "time_delta_17\t-0.0\n",
      "time_delta_18\t-0.11\n",
      "time_delta_19\t-0.19\n",
      "time_delta_20\t0.01\n",
      "time_delta_21\t-0.09\n",
      "time_delta_22\t-0.18\n",
      "time_delta_23\t-0.07\n",
      "time_delta_24\t-0.24\n",
      "time_delta_25\t-0.04\n",
      "time_delta_26\t-0.02\n",
      "time_delta_27\t-0.12\n",
      "time_delta_28\t-0.14\n",
      "time_delta_29\t0.01\n",
      "time_delta_30\t-0.17\n"
     ]
    }
   ],
   "source": [
    "print(RexT_pac_model.best_estimator_)\n",
    "print(refit_RexT + ' (Mean cross-validated score of the best_estimator): ' + \\\n",
    "      str(RexT_pac_model.best_score_))\n",
    "for col, coef in zip(RexT_X_train.columns, RexT_pac_model.best_estimator_.coef_[0]):\n",
    "    print(col + '\\t' + str(round(coef, 2)))"
   ]
  },
  {
   "cell_type": "markdown",
   "metadata": {},
   "source": [
    "#### Model Evaluation\n",
    "##### ROC Curve"
   ]
  },
  {
   "cell_type": "code",
   "execution_count": 26,
   "metadata": {},
   "outputs": [],
   "source": [
    "from sklearn.metrics import roc_curve, auc\n",
    "\n",
    "AS_y_prob_fit = AS_pac_model.decision_function(AS_X_test)\n",
    "TS_y_prob_fit = TS_pac_model.decision_function(TS_X_test)\n",
    "RexT_y_prob_fit = RexT_pac_model.decision_function(RexT_X_test)\n",
    "\n",
    "AS_pac_roc_curve = roc_curve(AS_y_test, AS_y_prob_fit, pos_label=1) # returns tuple: fpr, tpr, thresholds\n",
    "AS_pac_roc_curve_AUC = auc(AS_pac_roc_curve[0], \n",
    "                                    AS_pac_roc_curve[1]) # needs fpr, tpr\n",
    "TS_pac_roc_curve = roc_curve(TS_y_test, TS_y_prob_fit, pos_label=1)\n",
    "TS_pac_roc_curve_AUC = auc(TS_pac_roc_curve[0], \n",
    "                                    TS_pac_roc_curve[1])\n",
    "RexT_pac_roc_curve = roc_curve(RexT_y_test, RexT_y_prob_fit, pos_label=1)\n",
    "RexT_pac_roc_curve_AUC = auc(RexT_pac_roc_curve[0], \n",
    "                                      RexT_pac_roc_curve[1])"
   ]
  },
  {
   "cell_type": "code",
   "execution_count": 27,
   "metadata": {},
   "outputs": [
    {
     "data": {
      "image/png": "[encoded data removed]",
      "text/plain": [
       "<Figure size 432x288 with 1 Axes>"
      ]
     },
     "metadata": {},
     "output_type": "display_data"
    }
   ],
   "source": [
    "# ROC Curve without 1 period differences\n",
    "utils.model_roc_curves(roc_data_dict={'AS' : AS_pac_roc_curve, \n",
    "                                'TS' : TS_pac_roc_curve, \n",
    "                                'RexT' : RexT_pac_roc_curve}, \n",
    "                 auc_dict={'AS' : AS_pac_roc_curve_AUC, \n",
    "                           'TS' : TS_pac_roc_curve_AUC, \n",
    "                           'RexT' : RexT_pac_roc_curve_AUC}, \n",
    "                 method_name='Passive Aggressive Classifier')"
   ]
  },
  {
   "cell_type": "markdown",
   "metadata": {},
   "source": [
    "##### Check Alert Counts at Certain Threshold"
   ]
  },
  {
   "cell_type": "markdown",
   "metadata": {},
   "source": [
    "##### Confusion Matrix"
   ]
  },
  {
   "cell_type": "code",
   "execution_count": 28,
   "metadata": {},
   "outputs": [
    {
     "name": "stdout",
     "output_type": "stream",
     "text": [
      "TP to FP ratio: 1.25\n"
     ]
    },
    {
     "data": {
      "image/png": "[encoded data removed]",
      "text/plain": [
       "<Figure size 432x288 with 2 Axes>"
      ]
     },
     "metadata": {},
     "output_type": "display_data"
    },
    {
     "name": "stdout",
     "output_type": "stream",
     "text": [
      "TP to FP ratio: 0.68\n"
     ]
    },
    {
     "data": {
      "image/png": "[encoded data removed]",
      "text/plain": [
       "<Figure size 432x288 with 2 Axes>"
      ]
     },
     "metadata": {},
     "output_type": "display_data"
    },
    {
     "name": "stdout",
     "output_type": "stream",
     "text": [
      "TP to FP ratio: 0.74\n"
     ]
    },
    {
     "data": {
      "image/png": "[encoded data removed]",
      "text/plain": [
       "<Figure size 432x288 with 2 Axes>"
      ]
     },
     "metadata": {},
     "output_type": "display_data"
    }
   ],
   "source": [
    "AS_threshold = 0.05\n",
    "utils.confusion_matrix_visual(AS_y_test[AS_X_test.is_campaign == 0], \n",
    "                        AS_pac_model.decision_function(AS_X_test[AS_X_test.is_campaign == 0]) >= AS_threshold, \n",
    "                              'AS Client-level')\n",
    "utils.confusion_matrix_visual(AS_y_test[AS_X_test.is_campaign == 1], \n",
    "                        AS_pac_model.decision_function(AS_X_test[AS_X_test.is_campaign == 1]) >= AS_threshold, \n",
    "                              'AS Campaign-level')\n",
    "utils.confusion_matrix_visual(AS_y_test, \n",
    "                        AS_pac_model.decision_function(AS_X_test) >= AS_threshold, 'AS Overall')"
   ]
  },
  {
   "cell_type": "code",
   "execution_count": 29,
   "metadata": {},
   "outputs": [
    {
     "name": "stdout",
     "output_type": "stream",
     "text": [
      "TP to FP ratio: inf\n"
     ]
    },
    {
     "name": "stderr",
     "output_type": "stream",
     "text": [
      "C:\\Users\\s.molin\\scope_model_case_study\\pymodelutils\\utils.py:259: RuntimeWarning: divide by zero encountered in longlong_scalars\n",
      "  print('TP to FP ratio: ' + str(round(mat[1,1] / mat[0,1], 2)))\n"
     ]
    },
    {
     "data": {
      "image/png": "[encoded data removed]",
      "text/plain": [
       "<Figure size 432x288 with 2 Axes>"
      ]
     },
     "metadata": {},
     "output_type": "display_data"
    }
   ],
   "source": [
    "TS_threshold = 0.16\n",
    "utils.confusion_matrix_visual(TS_y_test, \n",
    "                        TS_pac_model.decision_function(TS_X_test) >= TS_threshold,\n",
    "                        'TS')"
   ]
  },
  {
   "cell_type": "code",
   "execution_count": 30,
   "metadata": {},
   "outputs": [
    {
     "name": "stderr",
     "output_type": "stream",
     "text": [
      "C:\\Users\\s.molin\\scope_model_case_study\\pymodelutils\\utils.py:259: RuntimeWarning: divide by zero encountered in longlong_scalars\n",
      "  print('TP to FP ratio: ' + str(round(mat[1,1] / mat[0,1], 2)))\n"
     ]
    },
    {
     "name": "stdout",
     "output_type": "stream",
     "text": [
      "TP to FP ratio: inf\n"
     ]
    },
    {
     "data": {
      "image/png": "[encoded data removed]",
      "text/plain": [
       "<Figure size 432x288 with 2 Axes>"
      ]
     },
     "metadata": {},
     "output_type": "display_data"
    }
   ],
   "source": [
    "RexT_threshold = 0.1\n",
    "utils.confusion_matrix_visual(RexT_y_test, \n",
    "                        RexT_pac_model.decision_function(RexT_X_test) >= RexT_threshold,\n",
    "                        'RexT')"
   ]
  },
  {
   "cell_type": "markdown",
   "metadata": {},
   "source": [
    "#### Metrics"
   ]
  },
  {
   "cell_type": "code",
   "execution_count": 31,
   "metadata": {},
   "outputs": [
    {
     "name": "stdout",
     "output_type": "stream",
     "text": [
      "AS results\n",
      "             precision    recall  f1-score   support\n",
      "\n",
      "      False       0.78      0.96      0.86       882\n",
      "       True       0.43      0.10      0.16       262\n",
      "\n",
      "avg / total       0.70      0.76      0.70      1144\n",
      "\n",
      "Percent misclassified: 23.69%\n",
      "Count misclassified: 271\n",
      "------------------------------------------------------\n",
      "TS results\n",
      "             precision    recall  f1-score   support\n",
      "\n",
      "      False       0.90      1.00      0.94       624\n",
      "       True       1.00      0.04      0.08        76\n",
      "\n",
      "avg / total       0.91      0.90      0.85       700\n",
      "\n",
      "Percent misclassified: 10.43%\n",
      "Count misclassified: 73\n",
      "------------------------------------------------------\n",
      "RexT results\n",
      "             precision    recall  f1-score   support\n",
      "\n",
      "      False       0.88      1.00      0.93        86\n",
      "       True       1.00      0.08      0.14        13\n",
      "\n",
      "avg / total       0.89      0.88      0.83        99\n",
      "\n",
      "Percent misclassified: 12.12%\n",
      "Count misclassified: 12\n"
     ]
    }
   ],
   "source": [
    "utils.classification_report_all(y_test_dict={'AS' : AS_y_test, \n",
    "                                       'TS' : TS_y_test, \n",
    "                                       'RexT' : RexT_y_test},\n",
    "                         y_pred_dict={'AS' : \n",
    "                                      AS_pac_model.decision_function(AS_X_test) >= AS_threshold, \n",
    "                                      'TS' : \n",
    "                                      TS_pac_model.decision_function(TS_X_test) >= TS_threshold, \n",
    "                                      'RexT' : \n",
    "                                      RexT_pac_model.decision_function(RexT_X_test) >= RexT_threshold})"
   ]
  }
 ],
 "metadata": {
  "kernelspec": {
   "display_name": "Python 3",
   "language": "python",
   "name": "python3"
  },
  "language_info": {
   "codemirror_mode": {
    "name": "ipython",
    "version": 3
   },
   "file_extension": ".py",
   "mimetype": "text/x-python",
   "name": "python",
   "nbconvert_exporter": "python",
   "pygments_lexer": "ipython3",
   "version": "3.6.4"
  }
 },
 "nbformat": 4,
 "nbformat_minor": 2
}
