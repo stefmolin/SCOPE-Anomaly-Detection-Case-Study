{
 "cells": [
  {
   "cell_type": "markdown",
   "metadata": {},
   "source": [
    "# Machine Learning Models for SCOPE: Stochastic Gradient Descent Classifier\n",
    "Models will be coded here, but the official write up will be in the RMarkdown document."
   ]
  },
  {
   "cell_type": "code",
   "execution_count": null,
   "metadata": {},
   "outputs": [],
   "source": [
    "# load the data files\n",
    "import pandas as pd\n",
    "import numpy as np\n",
    "from pymodelutils import utils\n",
    "\n",
    "logs = pd.read_csv(\"data/metis_logs.csv\")\n",
    "logs.head()"
   ]
  },
  {
   "cell_type": "code",
   "execution_count": 2,
   "metadata": {},
   "outputs": [
    {
     "data": {
      "text/plain": [
       "count    9674.000000\n",
       "mean        0.166425\n",
       "std         0.372481\n",
       "min         0.000000\n",
       "25%         0.000000\n",
       "50%         0.000000\n",
       "75%         0.000000\n",
       "max         1.000000\n",
       "Name: is_alert, dtype: float64"
      ]
     },
     "execution_count": 2,
     "metadata": {},
     "output_type": "execute_result"
    }
   ],
   "source": [
    "# filter down to show the average opinion (0 means no alert, 1 means alert)\n",
    "logs['run_date'] = logs['run_date'].astype('datetime64[ns]')\n",
    "logs['is_alert'] = (np.where(logs['is_alert'] == 'f', 0, 1))\n",
    "logs = logs.groupby(['series', 'kpi', 'run_date']).mean().round(0).reset_index()\n",
    "logs['is_campaign'] = np.where(logs['campaign_id'] > 0, 1, 0)\n",
    "logs = logs.drop(columns=['client_id', 'partner_id', 'campaign_id'])\n",
    "logs['is_alert'].describe()"
   ]
  },
  {
   "cell_type": "code",
   "execution_count": null,
   "metadata": {},
   "outputs": [],
   "source": [
    "AS_data = pd.read_csv(\"data/python_AS.csv\")\n",
    "AS_data.head()"
   ]
  },
  {
   "cell_type": "code",
   "execution_count": null,
   "metadata": {},
   "outputs": [],
   "source": [
    "TS_data = pd.read_csv(\"data/python_TS.csv\")\n",
    "TS_data.head()"
   ]
  },
  {
   "cell_type": "code",
   "execution_count": null,
   "metadata": {},
   "outputs": [],
   "source": [
    "RexT_data = pd.read_csv(\"data/python_RexT.csv\")\n",
    "RexT_data.head()"
   ]
  },
  {
   "cell_type": "markdown",
   "metadata": {},
   "source": [
    "## Data Prep\n",
    "R has already filtered down the data to the days we are going to use and marked what is disqualified. We still have to handle the feature selection and one-hot encoding of select columns though. We also need to normalize it since out KPIs behave quite differently."
   ]
  },
  {
   "cell_type": "code",
   "execution_count": null,
   "metadata": {},
   "outputs": [],
   "source": [
    "# add column for AS to tell if it is campaign level or not\n",
    "AS_data['is_campaign'] = np.where(AS_data['campaign_id'] > 0, 1, 0)\n",
    "\n",
    "# drop the data we don't need for the model or for matching back to the logs\n",
    "AS_keep_columns = ['series', 'day', 'run_date', 'kpi', 'value', 'disqualified', 'is_campaign']\n",
    "TS_keep_columns = ['series', 'day', 'run_date', 'site_type', 'event_name', \n",
    "                   'kpi', 'value', 'disqualified']\n",
    "RexT_drop_columns = ['ranking',\n",
    "                    'day_of_week',\n",
    "                    'day_of_month',\n",
    "                    'month_of_year',\n",
    "                    'day_of_year',\n",
    "                    'week_of_year']\n",
    "\n",
    "AS_data = AS_data[AS_keep_columns]\n",
    "TS_data = TS_data[TS_keep_columns]\n",
    "RexT_data = RexT_data.drop(columns=RexT_drop_columns)"
   ]
  },
  {
   "cell_type": "code",
   "execution_count": null,
   "metadata": {},
   "outputs": [],
   "source": [
    "AS_data.head()"
   ]
  },
  {
   "cell_type": "code",
   "execution_count": null,
   "metadata": {},
   "outputs": [],
   "source": [
    "TS_data.head()"
   ]
  },
  {
   "cell_type": "code",
   "execution_count": null,
   "metadata": {},
   "outputs": [],
   "source": [
    "RexT_data.head()"
   ]
  },
  {
   "cell_type": "code",
   "execution_count": null,
   "metadata": {},
   "outputs": [],
   "source": [
    "# add a new column to determine how many days before the run_date the day column entry is\n",
    "# this will enable us to pivot that data into separate columns for the features of our model\n",
    "utils.prep_dates(AS_data)\n",
    "utils.prep_dates(TS_data)\n",
    "utils.prep_dates(RexT_data)"
   ]
  },
  {
   "cell_type": "code",
   "execution_count": null,
   "metadata": {},
   "outputs": [],
   "source": [
    "# inner joins to logs\n",
    "AS_data = pd.merge(AS_data, logs, on=['series', 'run_date', 'kpi', 'is_campaign'], how='inner')\n",
    "TS_data = pd.merge(TS_data, logs, on=['series', 'run_date', 'kpi'], how='inner')\n",
    "RexT_data = pd.merge(RexT_data, logs, on=['series', 'run_date', 'kpi'], how='inner')"
   ]
  },
  {
   "cell_type": "code",
   "execution_count": null,
   "metadata": {},
   "outputs": [],
   "source": [
    "# filter out the disqualified data (AS and TS data only)\n",
    "AS_disqualified = AS_data[AS_data.disqualified]\n",
    "TS_disqualified = TS_data[TS_data.disqualified]\n",
    "\n",
    "# valid for model (AS and TS data only)\n",
    "valid_AS_raw = AS_data[~(AS_data.disqualified)]\n",
    "valid_TS_raw = TS_data[~(TS_data.disqualified)]\n",
    "\n",
    "# keep a copy of the raw RexT data\n",
    "RexT_data_raw = RexT_data.copy(deep=True)"
   ]
  },
  {
   "cell_type": "code",
   "execution_count": null,
   "metadata": {},
   "outputs": [],
   "source": [
    "# final preparations to the data shape for use in the model\n",
    "valid_AS = utils.data_prep_pipeline(valid_AS_raw.copy(), \n",
    "                                      indices=['series', 'run_date', 'kpi', 'is_campaign', 'is_alert'], \n",
    "                                      cols=['kpi'],\n",
    "                                      scaling_method=['standardize', 'min_max', 'percent_of_mean'])\n",
    "disqualified_AS = utils.data_prep_pipeline(AS_disqualified.copy(), \n",
    "                                          indices=['series', 'run_date', 'kpi', 'is_campaign', 'is_alert'], \n",
    "                                          cols=['kpi'],\n",
    "                                          scaling_method=['standardize', 'min_max', 'percent_of_mean'])\n",
    "valid_TS = utils.data_prep_pipeline(valid_TS_raw.copy(), \n",
    "                                      indices=['series', 'run_date', 'site_type', 'event_name', 'is_alert'], \n",
    "                                      cols=['site_type', 'event_name'],\n",
    "                                      scaling_method=['standardize', 'min_max', 'percent_of_mean'])\n",
    "disqualified_TS = utils.data_prep_pipeline(TS_disqualified.copy(), \n",
    "                                          indices=['series', 'run_date', 'site_type', 'event_name', 'is_alert'], \n",
    "                                          cols=['site_type', 'event_name'],\n",
    "                                          scaling_method=['standardize', 'min_max', 'percent_of_mean'])\n",
    "valid_RexT = utils.data_prep_pipeline(utils.clean_regions(RexT_data), \n",
    "                                       indices=['isCountry', 'isSubregion', 'isRegion', \n",
    "                                                'series', 'run_date', 'is_alert'], \n",
    "                                       cols=['series'],\n",
    "                                       scaling_method=['standardize', 'min_max', 'percent_of_mean'])"
   ]
  },
  {
   "cell_type": "code",
   "execution_count": null,
   "metadata": {},
   "outputs": [],
   "source": [
    "# for the TS data we need to drop event_name_SITE LEVEL because it will always be the same as site_type_SITE LEVEL\n",
    "valid_TS = {key : value.drop(columns='event_name_SITE LEVEL') for key, value in valid_TS.items()}\n",
    "\n",
    "# add back missing columns for the disqualified data\n",
    "disqualified_TS['min_max']['time_delta_24'], disqualified_TS['min_max']['time_delta_25'] = (0,0)\n",
    "disqualified_TS['min_max']['site_type_SITE LEVEL'], disqualified_TS['min_max']['site_type_aios'] = (0,0)\n",
    "disqualified_TS['min_max']['time_delta_diff_23'], disqualified_TS['min_max']['time_delta_diff_24'] = (0,0)"
   ]
  },
  {
   "cell_type": "code",
   "execution_count": null,
   "metadata": {},
   "outputs": [],
   "source": [
    "valid_AS['min_max'].head()"
   ]
  },
  {
   "cell_type": "code",
   "execution_count": null,
   "metadata": {},
   "outputs": [],
   "source": [
    "valid_TS['percent_of_mean'].head()"
   ]
  },
  {
   "cell_type": "code",
   "execution_count": null,
   "metadata": {},
   "outputs": [],
   "source": [
    "valid_RexT['standardize'].head()"
   ]
  },
  {
   "cell_type": "markdown",
   "metadata": {},
   "source": [
    "## Modelling\n",
    "Now that all the data is prepped, we can start building some logistic regression models to test on. We also need to split our data into a test and train set being careful that we have an equal proportion of anomalies in each (because they are very few, we have to make sure we don't train or test the model on all the anomalies while the other gets none).\n",
    "\n",
    "### Split Data into Train and Test Sets"
   ]
  },
  {
   "cell_type": "code",
   "execution_count": null,
   "metadata": {},
   "outputs": [],
   "source": [
    "from sklearn.model_selection import train_test_split\n",
    "\n",
    "# scaling method to test\n",
    "AS_scaler = 'min_max'\n",
    "TS_scaler = 'min_max'\n",
    "RexT_scaler = 'min_max'\n",
    "\n",
    "# separate out data into feature matrices and target arrays\n",
    "AS_features = valid_AS[AS_scaler][[col for col in valid_AS[AS_scaler].columns \n",
    "                        if col not in ['series', 'run_date', 'is_alert']]] # this needs to be the model features\n",
    "AS_targets = valid_AS[AS_scaler]['is_alert'] # this needs to be the results from the logs (only)\n",
    "\n",
    "TS_features = valid_TS[TS_scaler][[col for col in valid_TS[TS_scaler].columns \n",
    "                        if col not in ['series', 'run_date', 'is_alert']]]\n",
    "TS_targets = valid_TS[TS_scaler]['is_alert']\n",
    "\n",
    "RexT_features = valid_RexT[RexT_scaler][[col for col in valid_RexT[RexT_scaler].columns \n",
    "                           if col not in ['run_date', 'is_alert']]]\n",
    "RexT_targets = valid_RexT[RexT_scaler]['is_alert']\n",
    "test_RexT_features = RexT_features.drop(columns=[col for col in RexT_features.columns \n",
    "                                                 if 'series' in col\n",
    "                                                or col in ['isCountry', 'isSubregion', 'isRegion']])\n",
    "\n",
    "# split into a train and test set without differences\n",
    "AS_X_train, AS_X_test, AS_y_train, AS_y_test = train_test_split(AS_features[[col for col in AS_features.columns \n",
    "                                                                             if 'diff' not in col]], \n",
    "                                                                AS_targets, \n",
    "                                                                test_size=0.2, \n",
    "                                                                random_state=25)\n",
    "TS_X_train, TS_X_test, TS_y_train, TS_y_test = train_test_split(TS_features[[col for col in TS_features.columns \n",
    "                                                                             if 'diff' not in col]], \n",
    "                                                                TS_targets, \n",
    "                                                                test_size=0.2, \n",
    "                                                                random_state=25)\n",
    "RexT_X_train, RexT_X_test, RexT_y_train, RexT_y_test = train_test_split(test_RexT_features[[col for col in \n",
    "                                                                                            test_RexT_features.columns\n",
    "                                                                                            if 'diff' not in col]], \n",
    "                                                                        RexT_targets, \n",
    "                                                                        test_size=0.5, \n",
    "                                                                        random_state=25)\n",
    "\n",
    "# split into a train and test set with differences\n",
    "AS_X_train_diff, AS_X_test_diff, AS_y_train_diff, AS_y_test_diff = train_test_split(AS_features, \n",
    "                                                                                    AS_targets, \n",
    "                                                                                    test_size=0.2, \n",
    "                                                                                    random_state=25)\n",
    "TS_X_train_diff, TS_X_test_diff, TS_y_train_diff, TS_y_test_diff = train_test_split(TS_features, \n",
    "                                                                                    TS_targets, \n",
    "                                                                                    test_size=0.2, \n",
    "                                                                                    random_state=25)\n",
    "RexT_X_train_diff, RexT_X_test_diff, RexT_y_train_diff, RexT_y_test_diff = train_test_split(test_RexT_features, \n",
    "                                                                                            RexT_targets, \n",
    "                                                                                            test_size=0.5, \n",
    "                                                                                            random_state=25)"
   ]
  },
  {
   "cell_type": "markdown",
   "metadata": {},
   "source": [
    "Let's make sure that we have similar percentage of anomalies in our test and train sets. "
   ]
  },
  {
   "cell_type": "code",
   "execution_count": 19,
   "metadata": {},
   "outputs": [
    {
     "name": "stdout",
     "output_type": "stream",
     "text": [
      "Total alerts in training set: 831.0\n",
      "Total alerts in test set: 215.0\n"
     ]
    },
    {
     "data": {
      "text/html": [
       "<div>\n",
       "<style scoped>\n",
       "    .dataframe tbody tr th:only-of-type {\n",
       "        vertical-align: middle;\n",
       "    }\n",
       "\n",
       "    .dataframe tbody tr th {\n",
       "        vertical-align: top;\n",
       "    }\n",
       "\n",
       "    .dataframe thead th {\n",
       "        text-align: right;\n",
       "    }\n",
       "</style>\n",
       "<table border=\"1\" class=\"dataframe\">\n",
       "  <thead>\n",
       "    <tr style=\"text-align: right;\">\n",
       "      <th></th>\n",
       "      <th>test</th>\n",
       "      <th>train</th>\n",
       "    </tr>\n",
       "  </thead>\n",
       "  <tbody>\n",
       "    <tr>\n",
       "      <th>0.0</th>\n",
       "      <td>0.782828</td>\n",
       "      <td>0.790045</td>\n",
       "    </tr>\n",
       "    <tr>\n",
       "      <th>1.0</th>\n",
       "      <td>0.217172</td>\n",
       "      <td>0.209955</td>\n",
       "    </tr>\n",
       "  </tbody>\n",
       "</table>\n",
       "</div>"
      ],
      "text/plain": [
       "         test     train\n",
       "0.0  0.782828  0.790045\n",
       "1.0  0.217172  0.209955"
      ]
     },
     "execution_count": 19,
     "metadata": {},
     "output_type": "execute_result"
    }
   ],
   "source": [
    "# AS\n",
    "print('Total alerts in training set: ' + str(AS_y_train.sum()))\n",
    "print('Total alerts in test set: ' + str(AS_y_test.sum()))\n",
    "pd.DataFrame({'train' : AS_y_train.value_counts(normalize=True), \n",
    "              'test' : AS_y_test.value_counts(normalize=True)})"
   ]
  },
  {
   "cell_type": "code",
   "execution_count": 20,
   "metadata": {},
   "outputs": [
    {
     "name": "stdout",
     "output_type": "stream",
     "text": [
      "Total alerts in training set: 237.0\n",
      "Total alerts in test set: 58.0\n"
     ]
    },
    {
     "data": {
      "text/html": [
       "<div>\n",
       "<style scoped>\n",
       "    .dataframe tbody tr th:only-of-type {\n",
       "        vertical-align: middle;\n",
       "    }\n",
       "\n",
       "    .dataframe tbody tr th {\n",
       "        vertical-align: top;\n",
       "    }\n",
       "\n",
       "    .dataframe thead th {\n",
       "        text-align: right;\n",
       "    }\n",
       "</style>\n",
       "<table border=\"1\" class=\"dataframe\">\n",
       "  <thead>\n",
       "    <tr style=\"text-align: right;\">\n",
       "      <th></th>\n",
       "      <th>test</th>\n",
       "      <th>train</th>\n",
       "    </tr>\n",
       "  </thead>\n",
       "  <tbody>\n",
       "    <tr>\n",
       "      <th>0.0</th>\n",
       "      <td>0.916667</td>\n",
       "      <td>0.91484</td>\n",
       "    </tr>\n",
       "    <tr>\n",
       "      <th>1.0</th>\n",
       "      <td>0.083333</td>\n",
       "      <td>0.08516</td>\n",
       "    </tr>\n",
       "  </tbody>\n",
       "</table>\n",
       "</div>"
      ],
      "text/plain": [
       "         test    train\n",
       "0.0  0.916667  0.91484\n",
       "1.0  0.083333  0.08516"
      ]
     },
     "execution_count": 20,
     "metadata": {},
     "output_type": "execute_result"
    }
   ],
   "source": [
    "# TS\n",
    "print('Total alerts in training set: ' + str(TS_y_train.sum()))\n",
    "print('Total alerts in test set: ' + str(TS_y_test.sum()))\n",
    "pd.DataFrame({'train' : TS_y_train.value_counts(normalize=True), \n",
    "              'test' : TS_y_test.value_counts(normalize=True)})"
   ]
  },
  {
   "cell_type": "code",
   "execution_count": 21,
   "metadata": {},
   "outputs": [
    {
     "name": "stdout",
     "output_type": "stream",
     "text": [
      "Total alerts in training set: 9.0\n",
      "Total alerts in test set: 13.0\n"
     ]
    },
    {
     "data": {
      "text/html": [
       "<div>\n",
       "<style scoped>\n",
       "    .dataframe tbody tr th:only-of-type {\n",
       "        vertical-align: middle;\n",
       "    }\n",
       "\n",
       "    .dataframe tbody tr th {\n",
       "        vertical-align: top;\n",
       "    }\n",
       "\n",
       "    .dataframe thead th {\n",
       "        text-align: right;\n",
       "    }\n",
       "</style>\n",
       "<table border=\"1\" class=\"dataframe\">\n",
       "  <thead>\n",
       "    <tr style=\"text-align: right;\">\n",
       "      <th></th>\n",
       "      <th>test</th>\n",
       "      <th>train</th>\n",
       "    </tr>\n",
       "  </thead>\n",
       "  <tbody>\n",
       "    <tr>\n",
       "      <th>0.0</th>\n",
       "      <td>0.868687</td>\n",
       "      <td>0.909091</td>\n",
       "    </tr>\n",
       "    <tr>\n",
       "      <th>1.0</th>\n",
       "      <td>0.131313</td>\n",
       "      <td>0.090909</td>\n",
       "    </tr>\n",
       "  </tbody>\n",
       "</table>\n",
       "</div>"
      ],
      "text/plain": [
       "         test     train\n",
       "0.0  0.868687  0.909091\n",
       "1.0  0.131313  0.090909"
      ]
     },
     "execution_count": 21,
     "metadata": {},
     "output_type": "execute_result"
    }
   ],
   "source": [
    "# RexT\n",
    "print('Total alerts in training set: ' + str(RexT_y_train.sum()))\n",
    "print('Total alerts in test set: ' + str(RexT_y_test.sum()))\n",
    "pd.DataFrame({'train' : RexT_y_train.value_counts(normalize=True), \n",
    "              'test' : RexT_y_test.value_counts(normalize=True)})"
   ]
  },
  {
   "cell_type": "markdown",
   "metadata": {},
   "source": [
    "### SGD Classifier without Differences"
   ]
  },
  {
   "cell_type": "code",
   "execution_count": 22,
   "metadata": {},
   "outputs": [],
   "source": [
    "%%capture \n",
    "# ^ don't print errors about precision, recall, F1-score being 0\n",
    "\n",
    "from sklearn.linear_model import SGDClassifier\n",
    "from sklearn.model_selection import GridSearchCV\n",
    "from sklearn.metrics import make_scorer, f1_score, precision_score, recall_score, fbeta_score, zero_one_loss\n",
    "\n",
    "sgd = SGDClassifier(random_state=42, n_jobs=-1)\n",
    "\n",
    "parameters = {'loss' : ['hinge', 'log', 'modified_huber', 'squared_hinge', 'perceptron'],\n",
    "              'penalty' : ['l2', 'l1', 'elasticnet'],\n",
    "             'alpha':[0.0001, 0.1, 0.5, 1, 5],\n",
    "              'l1_ratio' : [0.15, 0.5, 0.75],\n",
    "             'fit_intercept' : [True, False],\n",
    "             'class_weight' : ['balanced', None]}\n",
    "\n",
    "scoring = {'auc': 'roc_auc',\n",
    "           # only reports on alerts flagged\n",
    "           'precision_binary' : make_scorer(precision_score, average='binary'), \n",
    "           # global count of everything like confusion matrix\n",
    "           'precision_micro' : make_scorer(precision_score, average='micro'), \n",
    "           # same as macro but with a weighted average to account for imbalance of the classes\n",
    "           'precision_weighted' : make_scorer(precision_score, average='weighted'),\n",
    "          'recall_weighted' : make_scorer(recall_score, average='weighted'),\n",
    "          'recall_binary' : make_scorer(recall_score, average='binary'),\n",
    "          'recall_micro' : make_scorer(recall_score, average='micro'),\n",
    "          'f1_score_weighted' : make_scorer(f1_score, average='weighted'),\n",
    "          'f1_score_binary' : make_scorer(f1_score, average='binary'),\n",
    "          'f1_score_micro' : make_scorer(f1_score, average='micro'),\n",
    "           # emphasize recall more\n",
    "          'f2_score_weighted' : make_scorer(fbeta_score, beta=2, average='weighted'), \n",
    "          'f2_score_binary' : make_scorer(fbeta_score, beta=2, average='binary'),\n",
    "          'f2_score_micro' : make_scorer(fbeta_score, beta=2, average='micro'),\n",
    "           # emphasize precision more\n",
    "          'f0.5_score_weighted' : make_scorer(fbeta_score, beta=0.5, average='weighted'), \n",
    "          'f0.5_score_binary' : make_scorer(fbeta_score, beta=0.5, average='binary'),\n",
    "          'f0.5_score_micro' : make_scorer(fbeta_score, beta=0.5, average='micro'),\n",
    "           # percent of misclassifications\n",
    "          'zero_one_loss_normalized' : make_scorer(zero_one_loss, greater_is_better=False), \n",
    "           # number of misclassifications\n",
    "          'zero_one_loss_count' : make_scorer(zero_one_loss, greater_is_better=False, normalize=False), \n",
    "          'accuracy' : 'accuracy'}\n",
    "\n",
    "# pick '_weighted' if you want to be right on each class proportionally \n",
    "# ('macro' isn't really appropriate due to the class imbalance)\n",
    "# pick '_binary' if you want to perform best on the alert class\n",
    "# pick '_micro' to count globally all TP, FP, TN, FN (like confusion matrix)\n",
    "# so for our purposes 'f1_score' with one of the above is likely to be the best\n",
    "refit_AS = 'precision_micro'\n",
    "refit_TS = 'precision_micro'\n",
    "refit_RexT = 'auc'\n",
    "\n",
    "AS_sgd_grid = GridSearchCV(estimator=sgd, param_grid=parameters, \n",
    "                                scoring=scoring, refit=refit_AS, return_train_score=True)\n",
    "TS_sgd_grid = GridSearchCV(estimator=sgd, param_grid=parameters, \n",
    "                                scoring=scoring, refit=refit_TS, return_train_score=True)\n",
    "RexT_sgd_grid = GridSearchCV(estimator=sgd, param_grid=parameters, \n",
    "                                  scoring=scoring, refit=refit_RexT, return_train_score=True)\n",
    "\n",
    "# fit the models to find the best version\n",
    "AS_sgd_model = AS_sgd_grid.fit(AS_X_train, AS_y_train)\n",
    "TS_sgd_model = TS_sgd_grid.fit(TS_X_train, TS_y_train)\n",
    "RexT_sgd_model = RexT_sgd_grid.fit(RexT_X_train, RexT_y_train)"
   ]
  },
  {
   "cell_type": "markdown",
   "metadata": {},
   "source": [
    "#### Best Models\n",
    "##### AS"
   ]
  },
  {
   "cell_type": "code",
   "execution_count": 23,
   "metadata": {},
   "outputs": [
    {
     "name": "stdout",
     "output_type": "stream",
     "text": [
      "SGDClassifier(alpha=0.1, average=False, class_weight='balanced', epsilon=0.1,\n",
      "       eta0=0.0, fit_intercept=True, l1_ratio=0.15,\n",
      "       learning_rate='optimal', loss='hinge', max_iter=None, n_iter=None,\n",
      "       n_jobs=-1, penalty='l1', power_t=0.5, random_state=42, shuffle=True,\n",
      "       tol=None, verbose=0, warm_start=False)\n",
      "precision_micro (Mean cross-validated score of the best_estimator): 0.8006568974229409\n",
      "is_campaign\t0.0\n",
      "time_delta_01\t0.36\n",
      "time_delta_02\t0.0\n",
      "time_delta_03\t0.0\n",
      "time_delta_04\t0.0\n",
      "time_delta_05\t0.0\n",
      "time_delta_06\t0.0\n",
      "time_delta_07\t0.0\n",
      "time_delta_08\t0.0\n",
      "time_delta_09\t0.0\n",
      "time_delta_10\t0.0\n",
      "time_delta_11\t0.0\n",
      "time_delta_12\t0.0\n",
      "time_delta_13\t0.0\n",
      "time_delta_14\t0.0\n",
      "time_delta_15\t0.0\n",
      "time_delta_16\t0.0\n",
      "time_delta_17\t0.0\n",
      "time_delta_18\t0.0\n",
      "time_delta_19\t0.0\n",
      "time_delta_20\t0.0\n",
      "time_delta_21\t0.0\n",
      "time_delta_22\t0.0\n",
      "time_delta_23\t0.0\n",
      "time_delta_24\t0.0\n",
      "time_delta_25\t0.0\n",
      "kpi_clicks\t0.0\n",
      "kpi_client_rext\t0.0\n",
      "kpi_conversions\t0.0\n",
      "kpi_cos\t0.0\n",
      "kpi_cr\t0.0\n",
      "kpi_ctr\t0.0\n",
      "kpi_displays\t0.0\n",
      "kpi_margin\t0.0\n",
      "kpi_order_value\t0.0\n",
      "kpi_rext_euro\t0.0\n",
      "kpi_spend\t0.0\n",
      "kpi_tac\t0.0\n"
     ]
    }
   ],
   "source": [
    "print(AS_sgd_model.best_estimator_)\n",
    "print(refit_AS + ' (Mean cross-validated score of the best_estimator): ' + \\\n",
    "      str(AS_sgd_model.best_score_))\n",
    "for col, coef in zip(AS_X_train.columns, AS_sgd_model.best_estimator_.coef_[0]):\n",
    "    print(col + '\\t' + str(round(coef, 2)))"
   ]
  },
  {
   "cell_type": "markdown",
   "metadata": {},
   "source": [
    "##### TS"
   ]
  },
  {
   "cell_type": "code",
   "execution_count": 26,
   "metadata": {},
   "outputs": [
    {
     "name": "stdout",
     "output_type": "stream",
     "text": [
      "SGDClassifier(alpha=0.1, average=False, class_weight=None, epsilon=0.1,\n",
      "       eta0=0.0, fit_intercept=True, l1_ratio=0.15,\n",
      "       learning_rate='optimal', loss='modified_huber', max_iter=None,\n",
      "       n_iter=None, n_jobs=-1, penalty='l2', power_t=0.5, random_state=42,\n",
      "       shuffle=True, tol=None, verbose=0, warm_start=False)\n",
      "precision_micro (Mean cross-validated score of the best_estimator): 0.9209486166007905\n",
      "time_delta_01\t0.15\n",
      "time_delta_02\t0.06\n",
      "time_delta_03\t0.02\n",
      "time_delta_04\t-0.0\n",
      "time_delta_05\t0.04\n",
      "time_delta_06\t0.05\n",
      "time_delta_07\t0.03\n",
      "time_delta_08\t0.02\n",
      "time_delta_09\t0.02\n",
      "time_delta_10\t0.04\n",
      "time_delta_11\t0.05\n",
      "time_delta_12\t0.05\n",
      "time_delta_13\t0.04\n",
      "time_delta_14\t0.02\n",
      "time_delta_15\t0.04\n",
      "time_delta_16\t0.05\n",
      "time_delta_17\t0.02\n",
      "time_delta_18\t0.06\n",
      "time_delta_19\t0.06\n",
      "time_delta_20\t0.08\n",
      "time_delta_21\t0.03\n",
      "time_delta_22\t0.02\n",
      "time_delta_23\t0.05\n",
      "time_delta_24\t0.06\n",
      "time_delta_25\t0.04\n",
      "site_type_SITE LEVEL\t0.03\n",
      "site_type_aa\t0.02\n",
      "site_type_aios\t-0.02\n",
      "site_type_d\t-0.03\n",
      "site_type_m\t0.04\n",
      "site_type_t\t0.0\n",
      "event_name_basket\t-0.01\n",
      "event_name_homepage\t-0.03\n",
      "event_name_listing\t0.02\n",
      "event_name_product\t-0.0\n",
      "event_name_sales\t-0.03\n",
      "event_name_search\t0.06\n"
     ]
    }
   ],
   "source": [
    "print(TS_sgd_model.best_estimator_)\n",
    "print(refit_TS + ' (Mean cross-validated score of the best_estimator): ' + \\\n",
    "      str(TS_sgd_model.best_score_))\n",
    "for col, coef in zip(TS_X_train.columns, TS_sgd_model.best_estimator_.coef_[0]):\n",
    "    print(col + '\\t' + str(round(coef, 2)))"
   ]
  },
  {
   "cell_type": "markdown",
   "metadata": {},
   "source": [
    "##### RexT"
   ]
  },
  {
   "cell_type": "code",
   "execution_count": 27,
   "metadata": {},
   "outputs": [
    {
     "name": "stdout",
     "output_type": "stream",
     "text": [
      "SGDClassifier(alpha=0.5, average=False, class_weight='balanced', epsilon=0.1,\n",
      "       eta0=0.0, fit_intercept=True, l1_ratio=0.15,\n",
      "       learning_rate='optimal', loss='log', max_iter=None, n_iter=None,\n",
      "       n_jobs=-1, penalty='l1', power_t=0.5, random_state=42, shuffle=True,\n",
      "       tol=None, verbose=0, warm_start=False)\n",
      "auc (Mean cross-validated score of the best_estimator): 0.9666666666666666\n",
      "time_delta_01\t0.0\n",
      "time_delta_02\t0.0\n",
      "time_delta_03\t0.0\n",
      "time_delta_04\t0.0\n",
      "time_delta_05\t0.0\n",
      "time_delta_06\t0.0\n",
      "time_delta_07\t0.0\n",
      "time_delta_08\t0.0\n",
      "time_delta_09\t0.0\n",
      "time_delta_10\t0.0\n",
      "time_delta_11\t0.0\n",
      "time_delta_12\t0.0\n",
      "time_delta_13\t0.0\n",
      "time_delta_14\t0.0\n",
      "time_delta_15\t0.0\n",
      "time_delta_16\t0.0\n",
      "time_delta_17\t0.0\n",
      "time_delta_18\t0.0\n",
      "time_delta_19\t0.0\n",
      "time_delta_20\t0.0\n",
      "time_delta_21\t0.0\n",
      "time_delta_22\t0.0\n",
      "time_delta_23\t0.0\n",
      "time_delta_24\t0.0\n",
      "time_delta_25\t0.0\n",
      "time_delta_26\t0.0\n",
      "time_delta_27\t0.0\n",
      "time_delta_28\t0.0\n",
      "time_delta_29\t0.0\n",
      "time_delta_30\t0.0\n"
     ]
    }
   ],
   "source": [
    "print(RexT_sgd_model.best_estimator_)\n",
    "print(refit_RexT + ' (Mean cross-validated score of the best_estimator): ' + \\\n",
    "      str(RexT_sgd_model.best_score_))\n",
    "for col, coef in zip(RexT_X_train.columns, RexT_sgd_model.best_estimator_.coef_[0]):\n",
    "    print(col + '\\t' + str(round(coef, 2)))"
   ]
  },
  {
   "cell_type": "markdown",
   "metadata": {},
   "source": [
    "#### Model Evaluation\n",
    "##### ROC Curve"
   ]
  },
  {
   "cell_type": "code",
   "execution_count": 28,
   "metadata": {},
   "outputs": [],
   "source": [
    "from sklearn.metrics import roc_curve, auc\n",
    "\n",
    "AS_y_prob_fit = AS_sgd_model.decision_function(AS_X_test)\n",
    "TS_y_prob_fit = TS_sgd_model.decision_function(TS_X_test)\n",
    "RexT_y_prob_fit = RexT_sgd_model.decision_function(RexT_X_test)\n",
    "\n",
    "AS_sgd_roc_curve = roc_curve(AS_y_test, AS_y_prob_fit, pos_label=1) # returns tuple: fpr, tpr, thresholds\n",
    "AS_sgd_roc_curve_AUC = auc(AS_sgd_roc_curve[0], AS_sgd_roc_curve[1]) # needs fpr, tpr\n",
    "TS_sgd_roc_curve = roc_curve(TS_y_test, TS_y_prob_fit, pos_label=1)\n",
    "TS_sgd_roc_curve_AUC = auc(TS_sgd_roc_curve[0], TS_sgd_roc_curve[1])\n",
    "RexT_sgd_roc_curve = roc_curve(RexT_y_test, RexT_y_prob_fit, pos_label=1)\n",
    "RexT_sgd_roc_curve_AUC = auc(RexT_sgd_roc_curve[0], RexT_sgd_roc_curve[1])"
   ]
  },
  {
   "cell_type": "code",
   "execution_count": 29,
   "metadata": {},
   "outputs": [
    {
     "data": {
      "image/png": "[encoded data removed]",
      "text/plain": [
       "<Figure size 432x288 with 1 Axes>"
      ]
     },
     "metadata": {},
     "output_type": "display_data"
    }
   ],
   "source": [
    "# ROC Curve without 1 period differences\n",
    "utils.model_roc_curves(roc_data_dict={'AS' : AS_sgd_roc_curve, \n",
    "                                'TS' : TS_sgd_roc_curve, \n",
    "                                'RexT' : RexT_sgd_roc_curve}, \n",
    "                 auc_dict={'AS' : AS_sgd_roc_curve_AUC, \n",
    "                           'TS' : TS_sgd_roc_curve_AUC, \n",
    "                           'RexT' : RexT_sgd_roc_curve_AUC}, \n",
    "                 method_name='Stochastic Gradient Descent Classifier')"
   ]
  },
  {
   "cell_type": "markdown",
   "metadata": {},
   "source": [
    "##### Confusion Matrix"
   ]
  },
  {
   "cell_type": "code",
   "execution_count": 30,
   "metadata": {},
   "outputs": [
    {
     "name": "stdout",
     "output_type": "stream",
     "text": [
      "TP to FP ratio: 3.33\n"
     ]
    },
    {
     "data": {
      "image/png": "[encoded data removed]",
      "text/plain": [
       "<Figure size 432x288 with 2 Axes>"
      ]
     },
     "metadata": {},
     "output_type": "display_data"
    },
    {
     "name": "stdout",
     "output_type": "stream",
     "text": [
      "TP to FP ratio: 4.71\n"
     ]
    },
    {
     "data": {
      "image/png": "[encoded data removed]",
      "text/plain": [
       "<Figure size 432x288 with 2 Axes>"
      ]
     },
     "metadata": {},
     "output_type": "display_data"
    },
    {
     "name": "stdout",
     "output_type": "stream",
     "text": [
      "TP to FP ratio: 4.3\n"
     ]
    },
    {
     "data": {
      "image/png": "[encoded data removed]",
      "text/plain": [
       "<Figure size 432x288 with 2 Axes>"
      ]
     },
     "metadata": {},
     "output_type": "display_data"
    }
   ],
   "source": [
    "AS_threshold = 0.001\n",
    "utils.confusion_matrix_visual(AS_y_test[AS_X_test.is_campaign == 0], \n",
    "                        AS_sgd_model.decision_function(AS_X_test[AS_X_test.is_campaign == 0]) \\\n",
    "                        >= AS_threshold, 'AS Client-level')\n",
    "utils.confusion_matrix_visual(AS_y_test[AS_X_test.is_campaign == 1], \n",
    "                        AS_sgd_model.decision_function(AS_X_test[AS_X_test.is_campaign == 1]) \\\n",
    "                        >= AS_threshold, 'AS Campaign-level')\n",
    "utils.confusion_matrix_visual(AS_y_test, \n",
    "                        AS_sgd_model.decision_function(AS_X_test) \\\n",
    "                        >= AS_threshold, 'AS Overall')"
   ]
  },
  {
   "cell_type": "code",
   "execution_count": 31,
   "metadata": {},
   "outputs": [
    {
     "name": "stdout",
     "output_type": "stream",
     "text": [
      "TP to FP ratio: 1.0\n"
     ]
    },
    {
     "data": {
      "image/png": "[encoded data removed]",
      "text/plain": [
       "<Figure size 432x288 with 2 Axes>"
      ]
     },
     "metadata": {},
     "output_type": "display_data"
    }
   ],
   "source": [
    "TS_threshold = 0.0000001\n",
    "utils.confusion_matrix_visual(TS_y_test, \n",
    "                        TS_sgd_model.decision_function(TS_X_test) \\\n",
    "                        >= TS_threshold,\n",
    "                        'TS')"
   ]
  },
  {
   "cell_type": "code",
   "execution_count": 35,
   "metadata": {},
   "outputs": [
    {
     "name": "stdout",
     "output_type": "stream",
     "text": [
      "TP to FP ratio: nan\n"
     ]
    },
    {
     "name": "stderr",
     "output_type": "stream",
     "text": [
      "C:\\Users\\s.molin\\scope_model_case_study\\pymodelutils\\utils.py:259: RuntimeWarning: invalid value encountered in longlong_scalars\n",
      "  print('TP to FP ratio: ' + str(round(mat[1,1] / mat[0,1], 2)))\n"
     ]
    },
    {
     "data": {
      "image/png": "[encoded data removed]",
      "text/plain": [
       "<Figure size 432x288 with 2 Axes>"
      ]
     },
     "metadata": {},
     "output_type": "display_data"
    }
   ],
   "source": [
    "RexT_threshold = 0.05\n",
    "utils.confusion_matrix_visual(RexT_y_test, \n",
    "                        RexT_sgd_model.decision_function(RexT_X_test) \\\n",
    "                        >= RexT_threshold,\n",
    "                        'RexT')"
   ]
  },
  {
   "cell_type": "markdown",
   "metadata": {},
   "source": [
    "On disqualified data."
   ]
  },
  {
   "cell_type": "code",
   "execution_count": 36,
   "metadata": {},
   "outputs": [
    {
     "name": "stdout",
     "output_type": "stream",
     "text": [
      "TP to FP ratio: 0.76\n"
     ]
    },
    {
     "data": {
      "image/png": "[encoded data removed]",
      "text/plain": [
       "<Figure size 432x288 with 2 Axes>"
      ]
     },
     "metadata": {},
     "output_type": "display_data"
    }
   ],
   "source": [
    "utils.confusion_matrix_visual(disqualified_AS['min_max']['is_alert'], \n",
    "                        AS_sgd_model.decision_function(disqualified_AS['min_max'].\\\n",
    "                                                                   drop([col for col in disqualified_AS['min_max'].columns\n",
    "                                                                        if 'diff' in col or col in ['run_date', 'series', 'is_alert']], axis=1)) \\\n",
    "                        >= AS_threshold, 'AS Overall')"
   ]
  },
  {
   "cell_type": "code",
   "execution_count": 37,
   "metadata": {},
   "outputs": [
    {
     "name": "stdout",
     "output_type": "stream",
     "text": [
      "TP to FP ratio: nan\n"
     ]
    },
    {
     "name": "stderr",
     "output_type": "stream",
     "text": [
      "C:\\Users\\s.molin\\scope_model_case_study\\pymodelutils\\utils.py:259: RuntimeWarning: invalid value encountered in longlong_scalars\n",
      "  print('TP to FP ratio: ' + str(round(mat[1,1] / mat[0,1], 2)))\n"
     ]
    },
    {
     "data": {
      "image/png": "[encoded data removed]",
      "text/plain": [
       "<Figure size 432x288 with 2 Axes>"
      ]
     },
     "metadata": {},
     "output_type": "display_data"
    }
   ],
   "source": [
    "utils.confusion_matrix_visual(disqualified_TS['min_max']['is_alert'], \n",
    "                        TS_sgd_model.decision_function(disqualified_TS['min_max'].\\\n",
    "                                                                   drop([col for col in disqualified_TS['min_max'].columns\n",
    "                                                                        if 'diff' in col or col in ['run_date', 'series', 'is_alert']], axis=1)) \\\n",
    "                        >= TS_threshold,\n",
    "                        'TS')"
   ]
  },
  {
   "cell_type": "markdown",
   "metadata": {},
   "source": [
    "#### Metrics"
   ]
  },
  {
   "cell_type": "code",
   "execution_count": 38,
   "metadata": {},
   "outputs": [
    {
     "name": "stdout",
     "output_type": "stream",
     "text": [
      "AS results\n",
      "             precision    recall  f1-score   support\n",
      "\n",
      "      False       0.82      0.99      0.89       775\n",
      "       True       0.81      0.20      0.32       215\n",
      "\n",
      "avg / total       0.82      0.82      0.77       990\n",
      "\n",
      "Percent misclassified: 18.38%\n",
      "Count misclassified: 182\n",
      "------------------------------------------------------\n",
      "TS results\n",
      "             precision    recall  f1-score   support\n",
      "\n",
      "      False       0.92      1.00      0.96       638\n",
      "       True       0.50      0.02      0.03        58\n",
      "\n",
      "avg / total       0.88      0.92      0.88       696\n",
      "\n",
      "Percent misclassified: 8.33%\n",
      "Count misclassified: 58\n",
      "------------------------------------------------------\n",
      "RexT results\n",
      "             precision    recall  f1-score   support\n",
      "\n",
      "      False       0.87      1.00      0.93        86\n",
      "       True       0.00      0.00      0.00        13\n",
      "\n",
      "avg / total       0.75      0.87      0.81        99\n",
      "\n",
      "Percent misclassified: 13.13%\n",
      "Count misclassified: 13\n"
     ]
    },
    {
     "name": "stderr",
     "output_type": "stream",
     "text": [
      "c:\\users\\s.molin\\appdata\\local\\programs\\python\\python36-32\\lib\\site-packages\\sklearn\\metrics\\classification.py:1135: UndefinedMetricWarning: Precision and F-score are ill-defined and being set to 0.0 in labels with no predicted samples.\n",
      "  'precision', 'predicted', average, warn_for)\n"
     ]
    }
   ],
   "source": [
    "utils.classification_report_all(y_test_dict={'AS' : AS_y_test, \n",
    "                                       'TS' : TS_y_test, \n",
    "                                       'RexT' : RexT_y_test},\n",
    "                         y_pred_dict={'AS' : \n",
    "                                      AS_sgd_model.decision_function(AS_X_test) >= \\\n",
    "                                      AS_threshold, \n",
    "                                      'TS' : \n",
    "                                      TS_sgd_model.decision_function(TS_X_test) >= \\\n",
    "                                      TS_threshold, \n",
    "                                      'RexT' : \n",
    "                                      RexT_sgd_model.decision_function(RexT_X_test) >= \\\n",
    "                                      RexT_threshold})"
   ]
  },
  {
   "cell_type": "markdown",
   "metadata": {},
   "source": [
    "### Stochastic Gradient Descent Classifier with Differences"
   ]
  },
  {
   "cell_type": "code",
   "execution_count": 40,
   "metadata": {},
   "outputs": [],
   "source": [
    "%%capture \n",
    "# ^ don't print errors about precision, recall, F1-score being 0\n",
    "\n",
    "from sklearn.linear_model import RidgeClassifier\n",
    "from sklearn.model_selection import GridSearchCV\n",
    "from sklearn.metrics import make_scorer, f1_score, precision_score, recall_score, fbeta_score, zero_one_loss\n",
    "\n",
    "sgd_diff = SGDClassifier(random_state=42, n_jobs=-1)\n",
    "\n",
    "parameters = {'loss' : ['hinge', 'log', 'modified_huber', 'squared_hinge', 'perceptron'],\n",
    "              'penalty' : ['l2', 'l1', 'elasticnet'],\n",
    "             'alpha':[0.0001, 0.1, 0.5, 1, 5],\n",
    "              'l1_ratio' : [0.15, 0.5, 0.75],\n",
    "             'fit_intercept' : [True, False],\n",
    "             'class_weight' : ['balanced', None]}\n",
    "\n",
    "scoring = {'auc': 'roc_auc',\n",
    "           'precision_binary' : make_scorer(precision_score, average='binary'), \n",
    "           'precision_micro' : make_scorer(precision_score, average='micro'), \n",
    "           'precision_weighted' : make_scorer(precision_score, average='weighted'),\n",
    "          'recall_weighted' : make_scorer(recall_score, average='weighted'),\n",
    "          'recall_binary' : make_scorer(recall_score, average='binary'),\n",
    "          'recall_micro' : make_scorer(recall_score, average='micro'),\n",
    "          'f1_score_weighted' : make_scorer(f1_score, average='weighted'),\n",
    "          'f1_score_binary' : make_scorer(f1_score, average='binary'),\n",
    "          'f1_score_micro' : make_scorer(f1_score, average='micro'),\n",
    "          'f2_score_weighted' : make_scorer(fbeta_score, beta=2, average='weighted'), \n",
    "          'f2_score_binary' : make_scorer(fbeta_score, beta=2, average='binary'),\n",
    "          'f2_score_micro' : make_scorer(fbeta_score, beta=2, average='micro'),\n",
    "          'f0.5_score_weighted' : make_scorer(fbeta_score, beta=0.5, average='weighted'), \n",
    "          'f0.5_score_binary' : make_scorer(fbeta_score, beta=0.5, average='binary'),\n",
    "          'f0.5_score_micro' : make_scorer(fbeta_score, beta=0.5, average='micro'),\n",
    "          'zero_one_loss_normalized' : make_scorer(zero_one_loss, greater_is_better=False), \n",
    "          'zero_one_loss_count' : make_scorer(zero_one_loss, greater_is_better=False, normalize=False), \n",
    "          'accuracy' : 'accuracy'}\n",
    "\n",
    "# pick '_weighted' if you want to be right on each class proportionally \n",
    "# ('macro' isn't really appropriate due to the class imbalance)\n",
    "# pick '_binary' if you want to perform best on the alert class\n",
    "# pick '_micro' to count globally all TP, FP, TN, FN (like confusion matrix)\n",
    "# so for our purposes 'f1_score' with one of the above is likely to be the best\n",
    "refit_AS = 'precision_weighted'\n",
    "refit_TS = 'precision_micro'\n",
    "refit_RexT = 'auc'\n",
    "\n",
    "AS_sgd_diff_grid = GridSearchCV(estimator=sgd_diff, param_grid=parameters, \n",
    "                                scoring=scoring, refit=refit_AS, return_train_score=True)\n",
    "TS_sgd_diff_grid = GridSearchCV(estimator=sgd_diff, param_grid=parameters, \n",
    "                                scoring=scoring, refit=refit_TS, return_train_score=True)\n",
    "RexT_sgd_diff_grid = GridSearchCV(estimator=sgd_diff, param_grid=parameters, \n",
    "                                  scoring=scoring, refit=refit_RexT, return_train_score=True)\n",
    "\n",
    "# fit the models to find the best version\n",
    "AS_sgd_model_diff = AS_sgd_diff_grid.fit(AS_X_train_diff, AS_y_train_diff)\n",
    "TS_sgd_model_diff = TS_sgd_diff_grid.fit(TS_X_train_diff, TS_y_train_diff)\n",
    "RexT_sgd_model_diff = RexT_sgd_diff_grid.fit(RexT_X_train_diff, RexT_y_train_diff)"
   ]
  },
  {
   "cell_type": "markdown",
   "metadata": {},
   "source": [
    "#### Best Models\n",
    "##### AS"
   ]
  },
  {
   "cell_type": "code",
   "execution_count": 41,
   "metadata": {},
   "outputs": [
    {
     "name": "stdout",
     "output_type": "stream",
     "text": [
      "SGDClassifier(alpha=5, average=False, class_weight=None, epsilon=0.1,\n",
      "       eta0=0.0, fit_intercept=True, l1_ratio=0.15,\n",
      "       learning_rate='optimal', loss='modified_huber', max_iter=None,\n",
      "       n_iter=None, n_jobs=-1, penalty='l2', power_t=0.5, random_state=42,\n",
      "       shuffle=True, tol=None, verbose=0, warm_start=False)\n",
      "precision_weighted (Mean cross-validated score of the best_estimator): 0.8350743174130173\n",
      "is_campaign\t-0.01\n",
      "time_delta_01\t0.02\n",
      "time_delta_02\t0.0\n",
      "time_delta_03\t-0.01\n",
      "time_delta_04\t-0.02\n",
      "time_delta_05\t-0.02\n",
      "time_delta_06\t-0.02\n",
      "time_delta_07\t-0.02\n",
      "time_delta_08\t-0.02\n",
      "time_delta_09\t-0.02\n",
      "time_delta_10\t-0.02\n",
      "time_delta_11\t-0.02\n",
      "time_delta_12\t-0.02\n",
      "time_delta_13\t-0.02\n",
      "time_delta_14\t-0.03\n",
      "time_delta_15\t-0.02\n",
      "time_delta_16\t-0.03\n",
      "time_delta_17\t-0.03\n",
      "time_delta_18\t-0.02\n",
      "time_delta_19\t-0.03\n",
      "time_delta_20\t-0.03\n",
      "time_delta_21\t-0.03\n",
      "time_delta_22\t-0.02\n",
      "time_delta_23\t-0.03\n",
      "time_delta_24\t-0.03\n",
      "time_delta_25\t-0.03\n",
      "kpi_clicks\t0.0\n",
      "kpi_client_rext\t0.0\n",
      "kpi_conversions\t0.0\n",
      "kpi_cos\t0.0\n",
      "kpi_cr\t0.0\n",
      "kpi_ctr\t-0.0\n",
      "kpi_displays\t0.01\n",
      "kpi_margin\t-0.02\n",
      "kpi_order_value\t0.0\n",
      "kpi_rext_euro\t-0.01\n",
      "kpi_spend\t0.01\n",
      "kpi_tac\t-0.01\n",
      "time_delta_diff_24\t-0.01\n",
      "time_delta_diff_23\t-0.02\n",
      "time_delta_diff_22\t-0.02\n",
      "time_delta_diff_21\t-0.02\n",
      "time_delta_diff_20\t-0.02\n",
      "time_delta_diff_19\t-0.02\n",
      "time_delta_diff_18\t-0.02\n",
      "time_delta_diff_17\t-0.02\n",
      "time_delta_diff_16\t-0.02\n",
      "time_delta_diff_15\t-0.02\n",
      "time_delta_diff_14\t-0.02\n",
      "time_delta_diff_13\t-0.02\n",
      "time_delta_diff_12\t-0.02\n",
      "time_delta_diff_11\t-0.02\n",
      "time_delta_diff_10\t-0.02\n",
      "time_delta_diff_09\t-0.02\n",
      "time_delta_diff_08\t-0.02\n",
      "time_delta_diff_07\t-0.02\n",
      "time_delta_diff_06\t-0.02\n",
      "time_delta_diff_05\t-0.02\n",
      "time_delta_diff_04\t-0.02\n",
      "time_delta_diff_03\t-0.02\n",
      "time_delta_diff_02\t-0.02\n",
      "time_delta_diff_01\t-0.01\n"
     ]
    }
   ],
   "source": [
    "print(AS_sgd_model_diff.best_estimator_)\n",
    "print(refit_AS + ' (Mean cross-validated score of the best_estimator): ' + \\\n",
    "      str(AS_sgd_model_diff.best_score_))\n",
    "for col, coef in zip(AS_X_train_diff.columns, AS_sgd_model_diff.best_estimator_.coef_[0]):\n",
    "    print(col + '\\t' + str(round(coef, 2)))"
   ]
  },
  {
   "cell_type": "markdown",
   "metadata": {},
   "source": [
    "##### TS"
   ]
  },
  {
   "cell_type": "code",
   "execution_count": 42,
   "metadata": {},
   "outputs": [
    {
     "name": "stdout",
     "output_type": "stream",
     "text": [
      "SGDClassifier(alpha=0.1, average=False, class_weight=None, epsilon=0.1,\n",
      "       eta0=0.0, fit_intercept=True, l1_ratio=0.15,\n",
      "       learning_rate='optimal', loss='modified_huber', max_iter=None,\n",
      "       n_iter=None, n_jobs=-1, penalty='elasticnet', power_t=0.5,\n",
      "       random_state=42, shuffle=True, tol=None, verbose=0,\n",
      "       warm_start=False)\n",
      "precision_micro (Mean cross-validated score of the best_estimator): 0.9205892921307941\n",
      "time_delta_01\t0.06\n",
      "time_delta_02\t0.04\n",
      "time_delta_03\t0.0\n",
      "time_delta_04\t0.0\n",
      "time_delta_05\t0.0\n",
      "time_delta_06\t0.0\n",
      "time_delta_07\t0.0\n",
      "time_delta_08\t0.0\n",
      "time_delta_09\t0.0\n",
      "time_delta_10\t0.0\n",
      "time_delta_11\t0.0\n",
      "time_delta_12\t0.0\n",
      "time_delta_13\t0.0\n",
      "time_delta_14\t0.0\n",
      "time_delta_15\t0.0\n",
      "time_delta_16\t0.01\n",
      "time_delta_17\t0.0\n",
      "time_delta_18\t0.0\n",
      "time_delta_19\t0.0\n",
      "time_delta_20\t0.03\n",
      "time_delta_21\t0.0\n",
      "time_delta_22\t0.0\n",
      "time_delta_23\t0.0\n",
      "time_delta_24\t0.03\n",
      "time_delta_25\t0.0\n",
      "site_type_SITE LEVEL\t0.0\n",
      "site_type_aa\t0.0\n",
      "site_type_aios\t0.0\n",
      "site_type_d\t0.0\n",
      "site_type_m\t0.02\n",
      "site_type_t\t0.0\n",
      "event_name_basket\t0.0\n",
      "event_name_homepage\t0.0\n",
      "event_name_listing\t0.0\n",
      "event_name_product\t0.0\n",
      "event_name_sales\t0.0\n",
      "event_name_search\t0.01\n",
      "time_delta_diff_24\t0.0\n",
      "time_delta_diff_23\t0.0\n",
      "time_delta_diff_22\t0.0\n",
      "time_delta_diff_21\t0.02\n",
      "time_delta_diff_20\t0.06\n",
      "time_delta_diff_19\t0.04\n",
      "time_delta_diff_18\t0.0\n",
      "time_delta_diff_17\t0.0\n",
      "time_delta_diff_16\t0.0\n",
      "time_delta_diff_15\t0.0\n",
      "time_delta_diff_14\t0.0\n",
      "time_delta_diff_13\t0.0\n",
      "time_delta_diff_12\t0.0\n",
      "time_delta_diff_11\t0.0\n",
      "time_delta_diff_10\t0.0\n",
      "time_delta_diff_09\t0.0\n",
      "time_delta_diff_08\t0.0\n",
      "time_delta_diff_07\t0.0\n",
      "time_delta_diff_06\t0.0\n",
      "time_delta_diff_05\t0.0\n",
      "time_delta_diff_04\t0.0\n",
      "time_delta_diff_03\t0.0\n",
      "time_delta_diff_02\t0.0\n",
      "time_delta_diff_01\t0.07\n"
     ]
    }
   ],
   "source": [
    "print(TS_sgd_model_diff.best_estimator_)\n",
    "print(refit_TS + ' (Mean cross-validated score of the best_estimator): ' + \\\n",
    "      str(TS_sgd_model_diff.best_score_))\n",
    "for col, coef in zip(TS_X_train_diff.columns, TS_sgd_model_diff.best_estimator_.coef_[0]):\n",
    "    print(col + '\\t' + str(round(coef, 2)))"
   ]
  },
  {
   "cell_type": "markdown",
   "metadata": {},
   "source": [
    "##### RexT"
   ]
  },
  {
   "cell_type": "code",
   "execution_count": 43,
   "metadata": {},
   "outputs": [
    {
     "name": "stdout",
     "output_type": "stream",
     "text": [
      "SGDClassifier(alpha=0.1, average=False, class_weight=None, epsilon=0.1,\n",
      "       eta0=0.0, fit_intercept=True, l1_ratio=0.5, learning_rate='optimal',\n",
      "       loss='perceptron', max_iter=None, n_iter=None, n_jobs=-1,\n",
      "       penalty='elasticnet', power_t=0.5, random_state=42, shuffle=True,\n",
      "       tol=None, verbose=0, warm_start=False)\n",
      "auc (Mean cross-validated score of the best_estimator): 0.9777777777777776\n",
      "time_delta_01\t0.25\n",
      "time_delta_02\t0.0\n",
      "time_delta_03\t0.0\n",
      "time_delta_04\t0.0\n",
      "time_delta_05\t0.0\n",
      "time_delta_06\t0.0\n",
      "time_delta_07\t0.0\n",
      "time_delta_08\t0.0\n",
      "time_delta_09\t0.0\n",
      "time_delta_10\t0.0\n",
      "time_delta_11\t0.0\n",
      "time_delta_12\t0.0\n",
      "time_delta_13\t0.0\n",
      "time_delta_14\t0.0\n",
      "time_delta_15\t0.0\n",
      "time_delta_16\t0.0\n",
      "time_delta_17\t0.0\n",
      "time_delta_18\t0.0\n",
      "time_delta_19\t0.0\n",
      "time_delta_20\t0.0\n",
      "time_delta_21\t0.0\n",
      "time_delta_22\t0.0\n",
      "time_delta_23\t0.0\n",
      "time_delta_24\t0.0\n",
      "time_delta_25\t0.0\n",
      "time_delta_26\t0.0\n",
      "time_delta_27\t0.0\n",
      "time_delta_28\t0.0\n",
      "time_delta_29\t0.0\n",
      "time_delta_30\t0.0\n",
      "time_delta_diff_29\t0.0\n",
      "time_delta_diff_28\t0.0\n",
      "time_delta_diff_27\t0.0\n",
      "time_delta_diff_26\t0.0\n",
      "time_delta_diff_25\t0.0\n",
      "time_delta_diff_24\t0.0\n",
      "time_delta_diff_23\t0.0\n",
      "time_delta_diff_22\t0.0\n",
      "time_delta_diff_21\t0.0\n",
      "time_delta_diff_20\t0.0\n",
      "time_delta_diff_19\t0.0\n",
      "time_delta_diff_18\t0.0\n",
      "time_delta_diff_17\t0.0\n",
      "time_delta_diff_16\t0.0\n",
      "time_delta_diff_15\t0.0\n",
      "time_delta_diff_14\t0.0\n",
      "time_delta_diff_13\t0.0\n",
      "time_delta_diff_12\t0.0\n",
      "time_delta_diff_11\t0.0\n",
      "time_delta_diff_10\t0.0\n",
      "time_delta_diff_09\t0.0\n",
      "time_delta_diff_08\t0.0\n",
      "time_delta_diff_07\t0.0\n",
      "time_delta_diff_06\t0.0\n",
      "time_delta_diff_05\t0.0\n",
      "time_delta_diff_04\t0.0\n",
      "time_delta_diff_03\t0.0\n",
      "time_delta_diff_02\t0.0\n",
      "time_delta_diff_01\t0.15\n"
     ]
    }
   ],
   "source": [
    "print(RexT_sgd_model_diff.best_estimator_)\n",
    "print(refit_RexT + ' (Mean cross-validated score of the best_estimator): ' + \\\n",
    "      str(RexT_sgd_model_diff.best_score_))\n",
    "for col, coef in zip(RexT_X_train_diff.columns, RexT_sgd_model_diff.best_estimator_.coef_[0]):\n",
    "    print(col + '\\t' + str(round(coef, 2)))"
   ]
  },
  {
   "cell_type": "markdown",
   "metadata": {},
   "source": [
    "#### Model Evaluation\n",
    "##### ROC Curve"
   ]
  },
  {
   "cell_type": "code",
   "execution_count": 44,
   "metadata": {},
   "outputs": [],
   "source": [
    "from sklearn.metrics import roc_curve, auc\n",
    "\n",
    "AS_y_prob_fit_diff = AS_sgd_model_diff.decision_function(AS_X_test_diff)\n",
    "TS_y_prob_fit_diff = TS_sgd_model_diff.decision_function(TS_X_test_diff)\n",
    "RexT_y_prob_fit_diff = RexT_sgd_model_diff.decision_function(RexT_X_test_diff)\n",
    "\n",
    "AS_sgd_roc_curve_diff = roc_curve(AS_y_test_diff, AS_y_prob_fit_diff, pos_label=1)\n",
    "AS_sgd_roc_curve_AUC_diff = auc(AS_sgd_roc_curve_diff[0], AS_sgd_roc_curve_diff[1]) # needs fpr, tpr\n",
    "TS_sgd_roc_curve_diff = roc_curve(TS_y_test_diff, TS_y_prob_fit_diff, pos_label=1)\n",
    "TS_sgd_roc_curve_AUC_diff = auc(TS_sgd_roc_curve_diff[0], TS_sgd_roc_curve_diff[1])\n",
    "RexT_sgd_roc_curve_diff = roc_curve(RexT_y_test_diff, RexT_y_prob_fit_diff, pos_label=1)\n",
    "RexT_sgd_roc_curve_AUC_diff = auc(RexT_sgd_roc_curve_diff[0], RexT_sgd_roc_curve_diff[1])"
   ]
  },
  {
   "cell_type": "code",
   "execution_count": 45,
   "metadata": {},
   "outputs": [
    {
     "data": {
      "image/png": "[encoded data removed]",
      "text/plain": [
       "<Figure size 432x288 with 1 Axes>"
      ]
     },
     "metadata": {},
     "output_type": "display_data"
    }
   ],
   "source": [
    "# ROC Curve\n",
    "utils.model_roc_curves(roc_data_dict={'AS' : AS_sgd_roc_curve_diff, \n",
    "                                'TS' : TS_sgd_roc_curve_diff, \n",
    "                                'RexT' : RexT_sgd_roc_curve_diff}, \n",
    "                 auc_dict={'AS' : AS_sgd_roc_curve_AUC_diff, \n",
    "                           'TS' : TS_sgd_roc_curve_AUC_diff, \n",
    "                           'RexT' : RexT_sgd_roc_curve_AUC_diff}, \n",
    "                 method_name='Stochastic Gradient Descent Classifier with Differences')"
   ]
  },
  {
   "cell_type": "markdown",
   "metadata": {},
   "source": [
    "##### Confusion Matrix"
   ]
  },
  {
   "cell_type": "code",
   "execution_count": 53,
   "metadata": {},
   "outputs": [
    {
     "name": "stdout",
     "output_type": "stream",
     "text": [
      "TP to FP ratio: 0.0\n"
     ]
    },
    {
     "data": {
      "image/png": "[encoded data removed]",
      "text/plain": [
       "<Figure size 432x288 with 2 Axes>"
      ]
     },
     "metadata": {},
     "output_type": "display_data"
    },
    {
     "name": "stdout",
     "output_type": "stream",
     "text": [
      "TP to FP ratio: 0.3\n"
     ]
    },
    {
     "data": {
      "image/png": "[encoded data removed]",
      "text/plain": [
       "<Figure size 432x288 with 2 Axes>"
      ]
     },
     "metadata": {},
     "output_type": "display_data"
    },
    {
     "name": "stdout",
     "output_type": "stream",
     "text": [
      "TP to FP ratio: 0.3\n"
     ]
    },
    {
     "data": {
      "image/png": "[encoded data removed]",
      "text/plain": [
       "<Figure size 432x288 with 2 Axes>"
      ]
     },
     "metadata": {},
     "output_type": "display_data"
    }
   ],
   "source": [
    "AS_threshold = 0.01\n",
    "utils.confusion_matrix_visual(AS_y_test_diff[AS_X_test_diff.is_campaign == 0], \n",
    "                        AS_sgd_model_diff.decision_function(AS_X_test_diff[AS_X_test_diff.is_campaign == 0]) \\\n",
    "                        >= AS_threshold, 'AS Client-level')\n",
    "utils.confusion_matrix_visual(AS_y_test_diff[AS_X_test_diff.is_campaign == 1], \n",
    "                        AS_sgd_model_diff.decision_function(AS_X_test_diff[AS_X_test_diff.is_campaign == 1]) \\\n",
    "                        >= AS_threshold, 'AS Campaign-level')\n",
    "utils.confusion_matrix_visual(AS_y_test_diff[AS_X_test_diff.is_campaign == 1], \n",
    "                        AS_sgd_model_diff.decision_function(AS_X_test_diff[AS_X_test_diff.is_campaign == 1]) \\\n",
    "                        >= AS_threshold, 'AS Overall')"
   ]
  },
  {
   "cell_type": "code",
   "execution_count": 47,
   "metadata": {},
   "outputs": [
    {
     "name": "stdout",
     "output_type": "stream",
     "text": [
      "TP to FP ratio: 1.0\n"
     ]
    },
    {
     "data": {
      "image/png": "[encoded data removed]",
      "text/plain": [
       "<Figure size 432x288 with 2 Axes>"
      ]
     },
     "metadata": {},
     "output_type": "display_data"
    }
   ],
   "source": [
    "TS_threshold = 0.001\n",
    "utils.confusion_matrix_visual(TS_y_test_diff, \n",
    "                        TS_sgd_model_diff.decision_function(TS_X_test_diff) \\\n",
    "                        >= TS_threshold,\n",
    "                        'TS')"
   ]
  },
  {
   "cell_type": "code",
   "execution_count": 58,
   "metadata": {},
   "outputs": [
    {
     "name": "stdout",
     "output_type": "stream",
     "text": [
      "TP to FP ratio: inf\n"
     ]
    },
    {
     "name": "stderr",
     "output_type": "stream",
     "text": [
      "C:\\Users\\s.molin\\scope_model_case_study\\pymodelutils\\utils.py:259: RuntimeWarning: divide by zero encountered in longlong_scalars\n",
      "  print('TP to FP ratio: ' + str(round(mat[1,1] / mat[0,1], 2)))\n"
     ]
    },
    {
     "data": {
      "image/png": "[encoded data removed]",
      "text/plain": [
       "<Figure size 432x288 with 2 Axes>"
      ]
     },
     "metadata": {},
     "output_type": "display_data"
    }
   ],
   "source": [
    "RexT_threshold = 0.00000001\n",
    "utils.confusion_matrix_visual(RexT_y_test_diff, \n",
    "                        RexT_sgd_model_diff.decision_function(RexT_X_test_diff) \\\n",
    "                        >= RexT_threshold,\n",
    "                        'RexT')"
   ]
  },
  {
   "cell_type": "markdown",
   "metadata": {},
   "source": [
    "On disqualified data."
   ]
  },
  {
   "cell_type": "code",
   "execution_count": 49,
   "metadata": {},
   "outputs": [
    {
     "name": "stdout",
     "output_type": "stream",
     "text": [
      "TP to FP ratio: 0.42\n"
     ]
    },
    {
     "data": {
      "image/png": "[encoded data removed]",
      "text/plain": [
       "<Figure size 432x288 with 2 Axes>"
      ]
     },
     "metadata": {},
     "output_type": "display_data"
    }
   ],
   "source": [
    "utils.confusion_matrix_visual(disqualified_AS['min_max']['is_alert'], \n",
    "                        AS_sgd_model_diff.decision_function(disqualified_AS['min_max'].\\\n",
    "                                                                   drop([col for col in disqualified_AS['min_max'].columns\n",
    "                                                                        if col in ['run_date', 'series', 'is_alert']], axis=1)) \\\n",
    "                        >= AS_threshold, 'AS Overall')"
   ]
  },
  {
   "cell_type": "code",
   "execution_count": 50,
   "metadata": {},
   "outputs": [
    {
     "name": "stdout",
     "output_type": "stream",
     "text": [
      "TP to FP ratio: nan\n"
     ]
    },
    {
     "name": "stderr",
     "output_type": "stream",
     "text": [
      "C:\\Users\\s.molin\\scope_model_case_study\\pymodelutils\\utils.py:259: RuntimeWarning: invalid value encountered in longlong_scalars\n",
      "  print('TP to FP ratio: ' + str(round(mat[1,1] / mat[0,1], 2)))\n"
     ]
    },
    {
     "data": {
      "image/png": "[encoded data removed]",
      "text/plain": [
       "<Figure size 432x288 with 2 Axes>"
      ]
     },
     "metadata": {},
     "output_type": "display_data"
    }
   ],
   "source": [
    "utils.confusion_matrix_visual(disqualified_TS['min_max']['is_alert'], \n",
    "                        TS_sgd_model_diff.decision_function(disqualified_TS['min_max'].\\\n",
    "                                                                   drop([col for col in disqualified_TS['min_max'].columns\n",
    "                                                                        if col in ['run_date', 'series', 'is_alert']], axis=1)) \\\n",
    "                        >= TS_threshold,\n",
    "                        'TS')"
   ]
  },
  {
   "cell_type": "markdown",
   "metadata": {},
   "source": [
    "#### Metrics"
   ]
  },
  {
   "cell_type": "code",
   "execution_count": 51,
   "metadata": {},
   "outputs": [
    {
     "name": "stdout",
     "output_type": "stream",
     "text": [
      "AS results\n",
      "             precision    recall  f1-score   support\n",
      "\n",
      "      False       0.78      0.98      0.87       775\n",
      "       True       0.08      0.00      0.01       215\n",
      "\n",
      "avg / total       0.63      0.77      0.68       990\n",
      "\n",
      "Percent misclassified: 22.83%\n",
      "Count misclassified: 226\n",
      "------------------------------------------------------\n",
      "TS results\n",
      "             precision    recall  f1-score   support\n",
      "\n",
      "      False       0.92      1.00      0.96       638\n",
      "       True       0.50      0.02      0.03        58\n",
      "\n",
      "avg / total       0.88      0.92      0.88       696\n",
      "\n",
      "Percent misclassified: 8.33%\n",
      "Count misclassified: 58\n",
      "------------------------------------------------------\n",
      "RexT results\n",
      "             precision    recall  f1-score   support\n",
      "\n",
      "      False       0.93      1.00      0.97        86\n",
      "       True       1.00      0.54      0.70        13\n",
      "\n",
      "avg / total       0.94      0.94      0.93        99\n",
      "\n",
      "Percent misclassified: 6.06%\n",
      "Count misclassified: 6\n"
     ]
    }
   ],
   "source": [
    "utils.classification_report_all(y_test_dict={'AS' : AS_y_test_diff, \n",
    "                                       'TS' : TS_y_test_diff, \n",
    "                                       'RexT' : RexT_y_test_diff},\n",
    "                         y_pred_dict={'AS' : \n",
    "                                      AS_sgd_model_diff.decision_function(AS_X_test_diff) >= \\\n",
    "                                      AS_threshold, \n",
    "                                      'TS' : \n",
    "                                      TS_sgd_model_diff.decision_function(TS_X_test_diff) >= \\\n",
    "                                      TS_threshold, \n",
    "                                      'RexT' : \n",
    "                                      RexT_sgd_model_diff.decision_function(RexT_X_test_diff) >= \\\n",
    "                                      RexT_threshold})"
   ]
  }
 ],
 "metadata": {
  "kernelspec": {
   "display_name": "Python 3",
   "language": "python",
   "name": "python3"
  },
  "language_info": {
   "codemirror_mode": {
    "name": "ipython",
    "version": 3
   },
   "file_extension": ".py",
   "mimetype": "text/x-python",
   "name": "python",
   "nbconvert_exporter": "python",
   "pygments_lexer": "ipython3",
   "version": "3.6.4"
  }
 },
 "nbformat": 4,
 "nbformat_minor": 2
}
